{
 "cells": [
  {
   "cell_type": "markdown",
   "id": "d9305655-2db5-4b37-ad47-dc5bf18e0cc5",
   "metadata": {},
   "source": [
    "<a id='contents'></a>"
   ]
  },
  {
   "cell_type": "markdown",
   "id": "8db17fad",
   "metadata": {
    "toc": true
   },
   "source": [
    "<h1>Содержание<span class=\"tocSkip\"></span></h1>\n",
    "<div class=\"toc\"><ul class=\"toc-item\"><li><span><a href=\"#Шаг-1.-Загрузка-данных\" data-toc-modified-id=\"Шаг-1.-Загрузка-данных-1\"><span class=\"toc-item-num\">1&nbsp;&nbsp;</span>Шаг 1. Загрузка данных</a></span></li><li><span><a href=\"#Шаг-2.-Предобработка-данных\" data-toc-modified-id=\"Шаг-2.-Предобработка-данных-2\"><span class=\"toc-item-num\">2&nbsp;&nbsp;</span>Шаг 2. Предобработка данных</a></span><ul class=\"toc-item\"><li><span><a href=\"#Приведение-столбца-data-к-формату-даты\" data-toc-modified-id=\"Приведение-столбца-data-к-формату-даты-2.1\"><span class=\"toc-item-num\">2.1&nbsp;&nbsp;</span>Приведение столбца data к формату даты</a></span></li><li><span><a href=\"#Добавление-столбца\" data-toc-modified-id=\"Добавление-столбца-2.2\"><span class=\"toc-item-num\">2.2&nbsp;&nbsp;</span>Добавление столбца</a></span></li><li><span><a href=\"#Обработка-пропусков-и-дубликатов\" data-toc-modified-id=\"Обработка-пропусков-и-дубликатов-2.3\"><span class=\"toc-item-num\">2.3&nbsp;&nbsp;</span>Обработка пропусков и дубликатов</a></span><ul class=\"toc-item\"><li><span><a href=\"#Поиск-пропусков\" data-toc-modified-id=\"Поиск-пропусков-2.3.1\"><span class=\"toc-item-num\">2.3.1&nbsp;&nbsp;</span>Поиск пропусков</a></span></li><li><span><a href=\"#Проверка-дубликатов\" data-toc-modified-id=\"Проверка-дубликатов-2.3.2\"><span class=\"toc-item-num\">2.3.2&nbsp;&nbsp;</span>Проверка дубликатов</a></span></li></ul></li></ul></li><li><span><a href=\"#Шаг-3.-Исследовательский-анализ-данных\" data-toc-modified-id=\"Шаг-3.-Исследовательский-анализ-данных-3\"><span class=\"toc-item-num\">3&nbsp;&nbsp;</span>Шаг 3. Исследовательский анализ данных</a></span><ul class=\"toc-item\"><li><span><a href=\"#Частота-встречаемости-городов\" data-toc-modified-id=\"Частота-встречаемости-городов-3.1\"><span class=\"toc-item-num\">3.1&nbsp;&nbsp;</span>Частота встречаемости городов</a></span></li><li><span><a href=\"#Соотношение-пользователей-с-подпиской-и-без-подписки\" data-toc-modified-id=\"Соотношение-пользователей-с-подпиской-и-без-подписки-3.2\"><span class=\"toc-item-num\">3.2&nbsp;&nbsp;</span>Соотношение пользователей с подпиской и без подписки</a></span></li><li><span><a href=\"#Возраст-пользователей\" data-toc-modified-id=\"Возраст-пользователей-3.3\"><span class=\"toc-item-num\">3.3&nbsp;&nbsp;</span>Возраст пользователей</a></span></li><li><span><a href=\"#Расстояние,-которое-пользователь-преодолел-за-одну-поездку\" data-toc-modified-id=\"Расстояние,-которое-пользователь-преодолел-за-одну-поездку-3.4\"><span class=\"toc-item-num\">3.4&nbsp;&nbsp;</span>Расстояние, которое пользователь преодолел за одну поездку</a></span></li><li><span><a href=\"#Продолжительность-поездок\" data-toc-modified-id=\"Продолжительность-поездок-3.5\"><span class=\"toc-item-num\">3.5&nbsp;&nbsp;</span>Продолжительность поездок</a></span></li></ul></li><li><span><a href=\"#Шаг-4.-Объединение-данных\" data-toc-modified-id=\"Шаг-4.-Объединение-данных-4\"><span class=\"toc-item-num\">4&nbsp;&nbsp;</span>Шаг 4. Объединение данных</a></span><ul class=\"toc-item\"><li><span><a href=\"#Создание-общего-датафрейма\" data-toc-modified-id=\"Создание-общего-датафрейма-4.1\"><span class=\"toc-item-num\">4.1&nbsp;&nbsp;</span>Создание общего датафрейма</a></span></li><li><span><a href=\"#Данные-о-пользователях-без-подписки\" data-toc-modified-id=\"Данные-о-пользователях-без-подписки-4.2\"><span class=\"toc-item-num\">4.2&nbsp;&nbsp;</span>Данные о пользователях без подписки</a></span></li><li><span><a href=\"#Данные-о-пользователях-с-подпиской\" data-toc-modified-id=\"Данные-о-пользователях-с-подпиской-4.3\"><span class=\"toc-item-num\">4.3&nbsp;&nbsp;</span>Данные о пользователях с подпиской</a></span></li></ul></li><li><span><a href=\"#Шаг-5.-Подсчёт-выручки\" data-toc-modified-id=\"Шаг-5.-Подсчёт-выручки-5\"><span class=\"toc-item-num\">5&nbsp;&nbsp;</span>Шаг 5. Подсчёт выручки</a></span></li><li><span><a href=\"#Шаг-6.-Проверка-гипотез\" data-toc-modified-id=\"Шаг-6.-Проверка-гипотез-6\"><span class=\"toc-item-num\">6&nbsp;&nbsp;</span>Шаг 6. Проверка гипотез</a></span><ul class=\"toc-item\"><li><span><a href=\"#Пользователи-с-подпиской-тратят-больше-времени-на-поездки\" data-toc-modified-id=\"Пользователи-с-подпиской-тратят-больше-времени-на-поездки-6.1\"><span class=\"toc-item-num\">6.1&nbsp;&nbsp;</span>Пользователи с подпиской тратят больше времени на поездки</a></span></li><li><span><a href=\"#Пользователи-с-подпиской-за-одну-поездку-не-проезжают-больше-3130-метров\" data-toc-modified-id=\"Пользователи-с-подпиской-за-одну-поездку-не-проезжают-больше-3130-метров-6.2\"><span class=\"toc-item-num\">6.2&nbsp;&nbsp;</span>Пользователи с подпиской за одну поездку не проезжают больше 3130 метров</a></span></li><li><span><a href=\"#Помесячная-выручка-от-пользователей-с-подпиской-выше,-чем-от-пользователей-без-подписки\" data-toc-modified-id=\"Помесячная-выручка-от-пользователей-с-подпиской-выше,-чем-от-пользователей-без-подписки-6.3\"><span class=\"toc-item-num\">6.3&nbsp;&nbsp;</span>Помесячная выручка от пользователей с подпиской выше, чем от пользователей без подписки</a></span></li><li><span><a href=\"#Какой-тест-необходимо-провести-для-проверки-гипотезы-о-снижении-обращений-в-тех.поддержку-после-обновления\" data-toc-modified-id=\"Какой-тест-необходимо-провести-для-проверки-гипотезы-о-снижении-обращений-в-тех.поддержку-после-обновления-6.4\"><span class=\"toc-item-num\">6.4&nbsp;&nbsp;</span>Какой тест необходимо провести для проверки гипотезы о снижении обращений в тех.поддержку после обновления</a></span></li></ul></li><li><span><a href=\"#Шаг-7.-Распределения\" data-toc-modified-id=\"Шаг-7.-Распределения-7\"><span class=\"toc-item-num\">7&nbsp;&nbsp;</span>Шаг 7. Распределения</a></span><ul class=\"toc-item\"><li><span><a href=\"#Минимальное-количество-промокодов\" data-toc-modified-id=\"Минимальное-количество-промокодов-7.1\"><span class=\"toc-item-num\">7.1&nbsp;&nbsp;</span>Минимальное количество промокодов</a></span></li><li><span><a href=\"#Открытие-уведомлений\" data-toc-modified-id=\"Открытие-уведомлений-7.2\"><span class=\"toc-item-num\">7.2&nbsp;&nbsp;</span>Открытие уведомлений</a></span></li></ul></li><li><span><a href=\"#Вывод\" data-toc-modified-id=\"Вывод-8\"><span class=\"toc-item-num\">8&nbsp;&nbsp;</span>Вывод</a></span></li></ul></div>"
   ]
  },
  {
   "cell_type": "markdown",
   "id": "acf11745",
   "metadata": {},
   "source": [
    "# Анализ приложения аренды самокатов\n",
    "[К содержанию](#contents)"
   ]
  },
  {
   "cell_type": "markdown",
   "id": "f03a1e4c",
   "metadata": {},
   "source": [
    "Анализируем данные популярного сервиса аренды самокатов GoFast. \n",
    "Для анализа нам предоставлены данные о некоторых пользователях из нескольких городов, а также об их поездках. \n",
    "Все пользователи делятся на два типа:\n",
    "- Тех, кто подписан на сервис\n",
    "- И тех, кто не подписан на сервис\n",
    "\n",
    "Наша задача - на основании полученных данных провести анализ и проверить несколько гипотез. А именно:\n",
    "1. Тратят ли пользователи с подпиской больше времени на поездки, чем пользователи без подписки;\n",
    "2. Проезжают ли пользователи с подпиской за поездку расстояние большее, чем оптимальное расстояние с точки зрения износа (Быстрее ли изнашивается самокат);\n",
    "3. Выше ли помесячная выручка от пользователей с подпиской.\n",
    "\n",
    "\n",
    "На основании информации, которые мы получим проверив гипотезы, мы поможем принять решения, которые позволят бизнесу вырасти и продвигаться.\n",
    "\n",
    "Приступим к выполнению."
   ]
  },
  {
   "cell_type": "markdown",
   "id": "6fbfee86",
   "metadata": {},
   "source": [
    "**Подготовка**  \n",
    "[К содержанию](#contents)\n",
    "\n",
    "Для начала импортируем все необходимые для работы библиотеки:\n",
    "* `pandas` - для работы с датафреймами  \n",
    "* `stats` из `scipy` для рассчета статистик и проверки гипотез\n",
    "* `matplotlib.pyplot` для визуализации данных\n",
    "* `missingno` для визуализации пропущенных значений"
   ]
  },
  {
   "cell_type": "code",
   "execution_count": 1,
   "id": "72576667",
   "metadata": {},
   "outputs": [],
   "source": [
    "import sys\n",
    "try:\n",
    "    import missingno as msno\n",
    "except:\n",
    "    !{sys.executable} -m pip install missingno;\n",
    "    import missingno as msno\n",
    "    pass\n",
    "\n",
    "import pandas as pd\n",
    "import numpy as np\n",
    "from scipy import stats as st\n",
    "from math import factorial\n",
    "import matplotlib.pyplot as plt\n",
    "from scipy.stats import binom, norm"
   ]
  },
  {
   "cell_type": "markdown",
   "id": "c42cbe00",
   "metadata": {},
   "source": [
    "#### Шаг 1. Загрузка данных\n",
    "[К содержанию](#contents)"
   ]
  },
  {
   "cell_type": "markdown",
   "id": "c3e34252",
   "metadata": {},
   "source": [
    "Поочерёдно загрузим наши датасеты и сохраним их в отдельных датафреймах"
   ]
  },
  {
   "cell_type": "code",
   "execution_count": 2,
   "id": "eff9f206",
   "metadata": {},
   "outputs": [
    {
     "data": {
      "text/html": [
       "<div>\n",
       "<style scoped>\n",
       "    .dataframe tbody tr th:only-of-type {\n",
       "        vertical-align: middle;\n",
       "    }\n",
       "\n",
       "    .dataframe tbody tr th {\n",
       "        vertical-align: top;\n",
       "    }\n",
       "\n",
       "    .dataframe thead th {\n",
       "        text-align: right;\n",
       "    }\n",
       "</style>\n",
       "<table border=\"1\" class=\"dataframe\">\n",
       "  <thead>\n",
       "    <tr style=\"text-align: right;\">\n",
       "      <th></th>\n",
       "      <th>user_id</th>\n",
       "      <th>name</th>\n",
       "      <th>age</th>\n",
       "      <th>city</th>\n",
       "      <th>subscription_type</th>\n",
       "    </tr>\n",
       "  </thead>\n",
       "  <tbody>\n",
       "    <tr>\n",
       "      <th>0</th>\n",
       "      <td>1</td>\n",
       "      <td>Кира</td>\n",
       "      <td>22</td>\n",
       "      <td>Тюмень</td>\n",
       "      <td>ultra</td>\n",
       "    </tr>\n",
       "    <tr>\n",
       "      <th>1</th>\n",
       "      <td>2</td>\n",
       "      <td>Станислав</td>\n",
       "      <td>31</td>\n",
       "      <td>Омск</td>\n",
       "      <td>ultra</td>\n",
       "    </tr>\n",
       "    <tr>\n",
       "      <th>2</th>\n",
       "      <td>3</td>\n",
       "      <td>Алексей</td>\n",
       "      <td>20</td>\n",
       "      <td>Москва</td>\n",
       "      <td>ultra</td>\n",
       "    </tr>\n",
       "    <tr>\n",
       "      <th>3</th>\n",
       "      <td>4</td>\n",
       "      <td>Константин</td>\n",
       "      <td>26</td>\n",
       "      <td>Ростов-на-Дону</td>\n",
       "      <td>ultra</td>\n",
       "    </tr>\n",
       "    <tr>\n",
       "      <th>4</th>\n",
       "      <td>5</td>\n",
       "      <td>Адель</td>\n",
       "      <td>28</td>\n",
       "      <td>Омск</td>\n",
       "      <td>ultra</td>\n",
       "    </tr>\n",
       "    <tr>\n",
       "      <th>5</th>\n",
       "      <td>6</td>\n",
       "      <td>Регина</td>\n",
       "      <td>25</td>\n",
       "      <td>Краснодар</td>\n",
       "      <td>ultra</td>\n",
       "    </tr>\n",
       "    <tr>\n",
       "      <th>6</th>\n",
       "      <td>7</td>\n",
       "      <td>Игорь</td>\n",
       "      <td>23</td>\n",
       "      <td>Омск</td>\n",
       "      <td>ultra</td>\n",
       "    </tr>\n",
       "    <tr>\n",
       "      <th>7</th>\n",
       "      <td>8</td>\n",
       "      <td>Юрий</td>\n",
       "      <td>23</td>\n",
       "      <td>Краснодар</td>\n",
       "      <td>ultra</td>\n",
       "    </tr>\n",
       "    <tr>\n",
       "      <th>8</th>\n",
       "      <td>9</td>\n",
       "      <td>Ян</td>\n",
       "      <td>21</td>\n",
       "      <td>Пятигорск</td>\n",
       "      <td>ultra</td>\n",
       "    </tr>\n",
       "    <tr>\n",
       "      <th>9</th>\n",
       "      <td>10</td>\n",
       "      <td>Валерий</td>\n",
       "      <td>18</td>\n",
       "      <td>Екатеринбург</td>\n",
       "      <td>ultra</td>\n",
       "    </tr>\n",
       "  </tbody>\n",
       "</table>\n",
       "</div>"
      ],
      "text/plain": [
       "   user_id        name  age            city subscription_type\n",
       "0        1        Кира   22          Тюмень             ultra\n",
       "1        2   Станислав   31            Омск             ultra\n",
       "2        3     Алексей   20          Москва             ultra\n",
       "3        4  Константин   26  Ростов-на-Дону             ultra\n",
       "4        5       Адель   28            Омск             ultra\n",
       "5        6      Регина   25       Краснодар             ultra\n",
       "6        7       Игорь   23            Омск             ultra\n",
       "7        8        Юрий   23       Краснодар             ultra\n",
       "8        9          Ян   21       Пятигорск             ultra\n",
       "9       10     Валерий   18    Екатеринбург             ultra"
      ]
     },
     "metadata": {},
     "output_type": "display_data"
    },
    {
     "name": "stdout",
     "output_type": "stream",
     "text": [
      "<class 'pandas.core.frame.DataFrame'>\n",
      "RangeIndex: 1565 entries, 0 to 1564\n",
      "Data columns (total 5 columns):\n",
      " #   Column             Non-Null Count  Dtype \n",
      "---  ------             --------------  ----- \n",
      " 0   user_id            1565 non-null   int64 \n",
      " 1   name               1565 non-null   object\n",
      " 2   age                1565 non-null   int64 \n",
      " 3   city               1565 non-null   object\n",
      " 4   subscription_type  1565 non-null   object\n",
      "dtypes: int64(2), object(3)\n",
      "memory usage: 61.3+ KB\n"
     ]
    }
   ],
   "source": [
    "user_data = pd.read_csv('D:\\\\Irina\\\\datasets\\\\users_go.csv')\n",
    "display(user_data.head(10))\n",
    "user_data.info()"
   ]
  },
  {
   "cell_type": "markdown",
   "id": "c3c56a75",
   "metadata": {},
   "source": [
    "В новом датафрейме `user_data` хранятся данные о пользователях сервиса и она содержит 5 столбцов:\n",
    "* `user_id` - уникальный идентификатор пользователя в формате целого числа;\n",
    "* `name` - имя пользователя кириллицей (тип object);\n",
    "* `age` - возраст пользователя в виде целого числа;\n",
    "* `city` - Название города, где проживает пользователь\n",
    "* `subscription_type` - тип подписки на сервис"
   ]
  },
  {
   "cell_type": "code",
   "execution_count": 3,
   "id": "85822bf6",
   "metadata": {},
   "outputs": [
    {
     "data": {
      "text/html": [
       "<div>\n",
       "<style scoped>\n",
       "    .dataframe tbody tr th:only-of-type {\n",
       "        vertical-align: middle;\n",
       "    }\n",
       "\n",
       "    .dataframe tbody tr th {\n",
       "        vertical-align: top;\n",
       "    }\n",
       "\n",
       "    .dataframe thead th {\n",
       "        text-align: right;\n",
       "    }\n",
       "</style>\n",
       "<table border=\"1\" class=\"dataframe\">\n",
       "  <thead>\n",
       "    <tr style=\"text-align: right;\">\n",
       "      <th></th>\n",
       "      <th>user_id</th>\n",
       "      <th>distance</th>\n",
       "      <th>duration</th>\n",
       "      <th>date</th>\n",
       "    </tr>\n",
       "  </thead>\n",
       "  <tbody>\n",
       "    <tr>\n",
       "      <th>0</th>\n",
       "      <td>1</td>\n",
       "      <td>4409.919140</td>\n",
       "      <td>25.599769</td>\n",
       "      <td>2021-01-01</td>\n",
       "    </tr>\n",
       "    <tr>\n",
       "      <th>1</th>\n",
       "      <td>1</td>\n",
       "      <td>2617.592153</td>\n",
       "      <td>15.816871</td>\n",
       "      <td>2021-01-18</td>\n",
       "    </tr>\n",
       "    <tr>\n",
       "      <th>2</th>\n",
       "      <td>1</td>\n",
       "      <td>754.159807</td>\n",
       "      <td>6.232113</td>\n",
       "      <td>2021-04-20</td>\n",
       "    </tr>\n",
       "    <tr>\n",
       "      <th>3</th>\n",
       "      <td>1</td>\n",
       "      <td>2694.783254</td>\n",
       "      <td>18.511000</td>\n",
       "      <td>2021-08-11</td>\n",
       "    </tr>\n",
       "    <tr>\n",
       "      <th>4</th>\n",
       "      <td>1</td>\n",
       "      <td>4028.687306</td>\n",
       "      <td>26.265803</td>\n",
       "      <td>2021-08-28</td>\n",
       "    </tr>\n",
       "    <tr>\n",
       "      <th>5</th>\n",
       "      <td>1</td>\n",
       "      <td>2770.890808</td>\n",
       "      <td>16.650138</td>\n",
       "      <td>2021-10-09</td>\n",
       "    </tr>\n",
       "    <tr>\n",
       "      <th>6</th>\n",
       "      <td>1</td>\n",
       "      <td>3039.020292</td>\n",
       "      <td>14.927879</td>\n",
       "      <td>2021-10-19</td>\n",
       "    </tr>\n",
       "    <tr>\n",
       "      <th>7</th>\n",
       "      <td>1</td>\n",
       "      <td>2842.118050</td>\n",
       "      <td>23.117468</td>\n",
       "      <td>2021-11-06</td>\n",
       "    </tr>\n",
       "    <tr>\n",
       "      <th>8</th>\n",
       "      <td>1</td>\n",
       "      <td>3412.690668</td>\n",
       "      <td>15.238072</td>\n",
       "      <td>2021-11-14</td>\n",
       "    </tr>\n",
       "    <tr>\n",
       "      <th>9</th>\n",
       "      <td>1</td>\n",
       "      <td>748.690645</td>\n",
       "      <td>15.041884</td>\n",
       "      <td>2021-11-22</td>\n",
       "    </tr>\n",
       "  </tbody>\n",
       "</table>\n",
       "</div>"
      ],
      "text/plain": [
       "   user_id     distance   duration        date\n",
       "0        1  4409.919140  25.599769  2021-01-01\n",
       "1        1  2617.592153  15.816871  2021-01-18\n",
       "2        1   754.159807   6.232113  2021-04-20\n",
       "3        1  2694.783254  18.511000  2021-08-11\n",
       "4        1  4028.687306  26.265803  2021-08-28\n",
       "5        1  2770.890808  16.650138  2021-10-09\n",
       "6        1  3039.020292  14.927879  2021-10-19\n",
       "7        1  2842.118050  23.117468  2021-11-06\n",
       "8        1  3412.690668  15.238072  2021-11-14\n",
       "9        1   748.690645  15.041884  2021-11-22"
      ]
     },
     "metadata": {},
     "output_type": "display_data"
    },
    {
     "name": "stdout",
     "output_type": "stream",
     "text": [
      "<class 'pandas.core.frame.DataFrame'>\n",
      "RangeIndex: 18068 entries, 0 to 18067\n",
      "Data columns (total 4 columns):\n",
      " #   Column    Non-Null Count  Dtype  \n",
      "---  ------    --------------  -----  \n",
      " 0   user_id   18068 non-null  int64  \n",
      " 1   distance  18068 non-null  float64\n",
      " 2   duration  18068 non-null  float64\n",
      " 3   date      18068 non-null  object \n",
      "dtypes: float64(2), int64(1), object(1)\n",
      "memory usage: 564.8+ KB\n"
     ]
    }
   ],
   "source": [
    "rides_data = pd.read_csv('D:\\\\Irina\\\\datasets\\\\rides_go.csv')\n",
    "display(rides_data.head(10))\n",
    "rides_data.info()"
   ]
  },
  {
   "cell_type": "markdown",
   "id": "acce05dd",
   "metadata": {},
   "source": [
    "В датафрейме `rides_data` хранится информация о поездках, которые совершали пользователи сервиса:\n",
    "* `user_id` - идентификатор пользователя;\n",
    "* `distance` - расстояние в метрах, которое проехал пользователь за сессию;\n",
    "* `duration` - длительность сессии в минутах;\n",
    "* `date` - дата совершения поездки.\n",
    "\n",
    "Дата совершения поездки указана в формате строки (object), в дальнейшем мы это исправим, чтобы было удобнее работать с данными"
   ]
  },
  {
   "cell_type": "code",
   "execution_count": 4,
   "id": "64976eec",
   "metadata": {},
   "outputs": [
    {
     "data": {
      "text/html": [
       "<div>\n",
       "<style scoped>\n",
       "    .dataframe tbody tr th:only-of-type {\n",
       "        vertical-align: middle;\n",
       "    }\n",
       "\n",
       "    .dataframe tbody tr th {\n",
       "        vertical-align: top;\n",
       "    }\n",
       "\n",
       "    .dataframe thead th {\n",
       "        text-align: right;\n",
       "    }\n",
       "</style>\n",
       "<table border=\"1\" class=\"dataframe\">\n",
       "  <thead>\n",
       "    <tr style=\"text-align: right;\">\n",
       "      <th></th>\n",
       "      <th>subscription_type</th>\n",
       "      <th>minute_price</th>\n",
       "      <th>start_ride_price</th>\n",
       "      <th>subscription_fee</th>\n",
       "    </tr>\n",
       "  </thead>\n",
       "  <tbody>\n",
       "    <tr>\n",
       "      <th>0</th>\n",
       "      <td>free</td>\n",
       "      <td>8</td>\n",
       "      <td>50</td>\n",
       "      <td>0</td>\n",
       "    </tr>\n",
       "    <tr>\n",
       "      <th>1</th>\n",
       "      <td>ultra</td>\n",
       "      <td>6</td>\n",
       "      <td>0</td>\n",
       "      <td>199</td>\n",
       "    </tr>\n",
       "  </tbody>\n",
       "</table>\n",
       "</div>"
      ],
      "text/plain": [
       "  subscription_type  minute_price  start_ride_price  subscription_fee\n",
       "0              free             8                50                 0\n",
       "1             ultra             6                 0               199"
      ]
     },
     "metadata": {},
     "output_type": "display_data"
    },
    {
     "name": "stdout",
     "output_type": "stream",
     "text": [
      "<class 'pandas.core.frame.DataFrame'>\n",
      "RangeIndex: 2 entries, 0 to 1\n",
      "Data columns (total 4 columns):\n",
      " #   Column             Non-Null Count  Dtype \n",
      "---  ------             --------------  ----- \n",
      " 0   subscription_type  2 non-null      object\n",
      " 1   minute_price       2 non-null      int64 \n",
      " 2   start_ride_price   2 non-null      int64 \n",
      " 3   subscription_fee   2 non-null      int64 \n",
      "dtypes: int64(3), object(1)\n",
      "memory usage: 196.0+ bytes\n"
     ]
    }
   ],
   "source": [
    "subscriptions_data = pd.read_csv('D:\\\\Irina\\\\datasets\\\\subscriptions_go.csv')\n",
    "display(subscriptions_data.head())\n",
    "subscriptions_data.info()"
   ]
  },
  {
   "cell_type": "markdown",
   "id": "e6d3e56a",
   "metadata": {},
   "source": [
    "Датафрейм `subscriptions_data` содержит данные о типах подписки:\n",
    "* `subscription_type` - содержит непосредственно тип подписки:\n",
    "    * `free` - без подписки;\n",
    "    * `ultra` - с подпиской;\n",
    "* `minute_price` - цена за одну минуту поездки в рублях (целое число);\n",
    "* `start_ride_price` - цена за начало поездки в рублях (целое число);\n",
    "* `subscription_fee` - цена подписки в месяц в рублях (целое число)."
   ]
  },
  {
   "cell_type": "markdown",
   "id": "e95ebca7",
   "metadata": {},
   "source": [
    "#### Шаг 2. Предобработка данных\n",
    "[К содержанию](#contents)"
   ]
  },
  {
   "cell_type": "markdown",
   "id": "ee4f6945",
   "metadata": {},
   "source": [
    "С тем, что за данные мы получили разобрались, теперь пришло время разобраться с типами данных и возможными дубликатами и пропусками"
   ]
  },
  {
   "cell_type": "markdown",
   "id": "24f92247",
   "metadata": {},
   "source": [
    "##### Приведение столбца data к формату даты\n",
    "[К содержанию](#contents)"
   ]
  },
  {
   "cell_type": "markdown",
   "id": "7e6aafc8",
   "metadata": {},
   "source": [
    "Для начала приведем столбец `date` в датафрейме `rides_data`, чтобы было удобно с ним работать."
   ]
  },
  {
   "cell_type": "code",
   "execution_count": 5,
   "id": "7c0b6138",
   "metadata": {},
   "outputs": [
    {
     "name": "stdout",
     "output_type": "stream",
     "text": [
      "<class 'pandas.core.frame.DataFrame'>\n",
      "RangeIndex: 18068 entries, 0 to 18067\n",
      "Data columns (total 4 columns):\n",
      " #   Column    Non-Null Count  Dtype         \n",
      "---  ------    --------------  -----         \n",
      " 0   user_id   18068 non-null  int64         \n",
      " 1   distance  18068 non-null  float64       \n",
      " 2   duration  18068 non-null  float64       \n",
      " 3   date      18068 non-null  datetime64[ns]\n",
      "dtypes: datetime64[ns](1), float64(2), int64(1)\n",
      "memory usage: 564.8 KB\n"
     ]
    }
   ],
   "source": [
    "rides_data['date']=pd.to_datetime(rides_data['date'])\n",
    "rides_data.info()"
   ]
  },
  {
   "cell_type": "markdown",
   "id": "760f8ec7",
   "metadata": {},
   "source": [
    "Отлично, все данные теперь нужного типа"
   ]
  },
  {
   "cell_type": "markdown",
   "id": "f754368f",
   "metadata": {},
   "source": [
    "##### Добавление столбца\n",
    "[К содержанию](#contents)"
   ]
  },
  {
   "cell_type": "markdown",
   "id": "315fad02",
   "metadata": {},
   "source": [
    "Прежде чем добавлять столбец, посмотрим, за какой промежуток времени у нас есть данные."
   ]
  },
  {
   "cell_type": "code",
   "execution_count": 6,
   "id": "babd1546",
   "metadata": {},
   "outputs": [
    {
     "data": {
      "text/plain": [
       "Timestamp('2021-01-01 00:00:00')"
      ]
     },
     "metadata": {},
     "output_type": "display_data"
    },
    {
     "data": {
      "text/plain": [
       "Timestamp('2021-12-30 00:00:00')"
      ]
     },
     "metadata": {},
     "output_type": "display_data"
    }
   ],
   "source": [
    "display(rides_data['date'].min(), rides_data['date'].max())"
   ]
  },
  {
   "cell_type": "markdown",
   "id": "02ffa8fe",
   "metadata": {},
   "source": [
    "Мы имеем данные за один календарный год. Видимо в курортных городах страны прокат работает круглогодично. \n",
    "Теперь мы без опасений, что наши данные сдвинутся, добавим столбец с номером месяца, чтобы было удобно получать статистику за месяц."
   ]
  },
  {
   "cell_type": "code",
   "execution_count": 7,
   "id": "d1f205a0",
   "metadata": {},
   "outputs": [
    {
     "data": {
      "text/html": [
       "<div>\n",
       "<style scoped>\n",
       "    .dataframe tbody tr th:only-of-type {\n",
       "        vertical-align: middle;\n",
       "    }\n",
       "\n",
       "    .dataframe tbody tr th {\n",
       "        vertical-align: top;\n",
       "    }\n",
       "\n",
       "    .dataframe thead th {\n",
       "        text-align: right;\n",
       "    }\n",
       "</style>\n",
       "<table border=\"1\" class=\"dataframe\">\n",
       "  <thead>\n",
       "    <tr style=\"text-align: right;\">\n",
       "      <th></th>\n",
       "      <th>user_id</th>\n",
       "      <th>distance</th>\n",
       "      <th>duration</th>\n",
       "      <th>date</th>\n",
       "      <th>month_date</th>\n",
       "    </tr>\n",
       "  </thead>\n",
       "  <tbody>\n",
       "    <tr>\n",
       "      <th>0</th>\n",
       "      <td>1</td>\n",
       "      <td>4409.919140</td>\n",
       "      <td>25.599769</td>\n",
       "      <td>2021-01-01</td>\n",
       "      <td>1</td>\n",
       "    </tr>\n",
       "    <tr>\n",
       "      <th>1</th>\n",
       "      <td>1</td>\n",
       "      <td>2617.592153</td>\n",
       "      <td>15.816871</td>\n",
       "      <td>2021-01-18</td>\n",
       "      <td>1</td>\n",
       "    </tr>\n",
       "    <tr>\n",
       "      <th>2</th>\n",
       "      <td>1</td>\n",
       "      <td>754.159807</td>\n",
       "      <td>6.232113</td>\n",
       "      <td>2021-04-20</td>\n",
       "      <td>4</td>\n",
       "    </tr>\n",
       "    <tr>\n",
       "      <th>3</th>\n",
       "      <td>1</td>\n",
       "      <td>2694.783254</td>\n",
       "      <td>18.511000</td>\n",
       "      <td>2021-08-11</td>\n",
       "      <td>8</td>\n",
       "    </tr>\n",
       "    <tr>\n",
       "      <th>4</th>\n",
       "      <td>1</td>\n",
       "      <td>4028.687306</td>\n",
       "      <td>26.265803</td>\n",
       "      <td>2021-08-28</td>\n",
       "      <td>8</td>\n",
       "    </tr>\n",
       "  </tbody>\n",
       "</table>\n",
       "</div>"
      ],
      "text/plain": [
       "   user_id     distance   duration       date  month_date\n",
       "0        1  4409.919140  25.599769 2021-01-01           1\n",
       "1        1  2617.592153  15.816871 2021-01-18           1\n",
       "2        1   754.159807   6.232113 2021-04-20           4\n",
       "3        1  2694.783254  18.511000 2021-08-11           8\n",
       "4        1  4028.687306  26.265803 2021-08-28           8"
      ]
     },
     "execution_count": 7,
     "metadata": {},
     "output_type": "execute_result"
    }
   ],
   "source": [
    "rides_data['month_date'] = rides_data['date'].dt.month\n",
    "rides_data.head()"
   ]
  },
  {
   "cell_type": "markdown",
   "id": "1eacc997",
   "metadata": {},
   "source": [
    "Отлично, теперь у нас есть столбец `month_date` в котором месяцы обозначены числами от 1 до 12 по календарному порядку."
   ]
  },
  {
   "cell_type": "markdown",
   "id": "f469ba5b",
   "metadata": {},
   "source": [
    "##### Обработка пропусков и дубликатов\n",
    "[К содержанию](#contents)"
   ]
  },
  {
   "cell_type": "markdown",
   "id": "a2e0fbe6",
   "metadata": {},
   "source": [
    "###### Поиск пропусков"
   ]
  },
  {
   "cell_type": "markdown",
   "id": "a20fee40",
   "metadata": {},
   "source": [
    "Для начала проверим пропуски в датафрейме `user_data`, для этого выведем на экран гистограмму со значениями по каждому столбцу, чтобы оценить, в каком столбце и сколько пропусков."
   ]
  },
  {
   "cell_type": "code",
   "execution_count": 8,
   "id": "fa491b50",
   "metadata": {},
   "outputs": [
    {
     "data": {
      "image/png": "[encoded data removed]",
      "text/plain": [
       "<Figure size 2500x1000 with 3 Axes>"
      ]
     },
     "metadata": {},
     "output_type": "display_data"
    }
   ],
   "source": [
    "msno.bar(user_data);"
   ]
  },
  {
   "cell_type": "markdown",
   "id": "03d4be47",
   "metadata": {},
   "source": [
    "Отлично, в этом датафрейме нет пропущенных значений. Теперь перейдём к датафрейму `rides_data`."
   ]
  },
  {
   "cell_type": "code",
   "execution_count": 9,
   "id": "03931b89",
   "metadata": {},
   "outputs": [
    {
     "data": {
      "image/png": "[encoded data removed]",
      "text/plain": [
       "<Figure size 2500x1000 with 3 Axes>"
      ]
     },
     "metadata": {},
     "output_type": "display_data"
    }
   ],
   "source": [
    "msno.bar(rides_data);"
   ]
  },
  {
   "cell_type": "markdown",
   "id": "c97a73aa",
   "metadata": {},
   "source": [
    "Отлично, и в этом датафрейме нет пропусков, в каждой колнке есть данные для всех 18068 записей.  \n",
    "Датафрейм `subscriptions_data` не имеет смысл проверять на наличие пропусков, так как там есть всего-лишь 2 строки и в них все значения заполнены."
   ]
  },
  {
   "cell_type": "markdown",
   "id": "cd890a52",
   "metadata": {},
   "source": [
    "###### Проверка дубликатов"
   ]
  },
  {
   "cell_type": "markdown",
   "id": "d2d10c68",
   "metadata": {},
   "source": [
    "Как и в предыдущем случае проверим только таблицы `user_data` и `rides_data` на наличие явных дубликатов (так как в них достаточно много данных и легко упустить дубликаты."
   ]
  },
  {
   "cell_type": "code",
   "execution_count": 10,
   "id": "abf9826f",
   "metadata": {},
   "outputs": [
    {
     "name": "stdout",
     "output_type": "stream",
     "text": [
      "Количество явных дубликатов в таблице \"user_data\": 31\n",
      "Количество явных дубликатов в таблице \"rides_data\": 0\n"
     ]
    }
   ],
   "source": [
    "print('Количество явных дубликатов в таблице \"user_data\":', user_data.duplicated().sum())\n",
    "print('Количество явных дубликатов в таблице \"rides_data\":', rides_data.duplicated().sum())"
   ]
  },
  {
   "cell_type": "markdown",
   "id": "1ce00799",
   "metadata": {},
   "source": [
    "В таблице `user_data` нашелся 31 явный дубликат. Удалим их и оставим только первое упоминание и исправим индексы в таблице:"
   ]
  },
  {
   "cell_type": "code",
   "execution_count": 11,
   "id": "214e768b",
   "metadata": {},
   "outputs": [
    {
     "name": "stdout",
     "output_type": "stream",
     "text": [
      "Количество явных дубликатов в таблице \"user_data\": 0\n"
     ]
    }
   ],
   "source": [
    "user_data = user_data.drop_duplicates(keep='first').reset_index(drop=True)\n",
    "print('Количество явных дубликатов в таблице \"user_data\":', user_data.duplicated().sum())"
   ]
  },
  {
   "cell_type": "markdown",
   "id": "46849b6b",
   "metadata": {},
   "source": [
    "Теперь проверим наличие неявных дубликатов. Проверять будем только в таблице `user_data`, так как только в ней есть столбцы, где возможны такого рода ошибки. Проверим в следующих столбцах:\n",
    "* `name` - возможны ошибки в написании имен\n",
    "* `city` - возможны ошибки в написании городов\n",
    "* `subscription_type` - возможны ошибки в названии типа подписки"
   ]
  },
  {
   "cell_type": "code",
   "execution_count": 12,
   "id": "76569fb0",
   "metadata": {},
   "outputs": [
    {
     "name": "stdout",
     "output_type": "stream",
     "text": [
      "Уникальные значения колонки \"name\": ['Агата' 'Аделина' 'Адель' 'Айдар' 'Александр' 'Александра' 'Алексей'\n",
      " 'Алина' 'Алиса' 'Алия' 'Алла' 'Альберт' 'Альбина' 'Алёна' 'Амалия'\n",
      " 'Амина' 'Амир' 'Анастасия' 'Анатолий' 'Ангелина' 'Андрей' 'Анжелика'\n",
      " 'Анна' 'Антон' 'Антонина' 'Ариана' 'Арина' 'Арсен' 'Арсений' 'Артемий'\n",
      " 'Артур' 'Артём' 'Богдан' 'Борис' 'Вадим' 'Валентина' 'Валерий' 'Валерия'\n",
      " 'Варвара' 'Василий' 'Василина' 'Василиса' 'Вера' 'Вероника' 'Виктор'\n",
      " 'Виктория' 'Виолетта' 'Виталий' 'Виталина' 'Влад' 'Влада' 'Владимир'\n",
      " 'Владислав' 'Владислава' 'Всеволод' 'Вячеслав' 'Галина' 'Георгий'\n",
      " 'Герман' 'Глеб' 'Гордей' 'Григорий' 'Давид' 'Дамир' 'Даниил' 'Данил'\n",
      " 'Данила' 'Даниэль' 'Дарина' 'Дарья' 'Демид' 'Денис' 'Диана' 'Дмитрий'\n",
      " 'Ева' 'Евгений' 'Евгения' 'Егор' 'Екатерина' 'Елена' 'Елизавета' 'Елисей'\n",
      " 'Есения' 'Жанна' 'Зарина' 'Захар' 'Злата' 'Иван' 'Игнат' 'Игорь' 'Ильдар'\n",
      " 'Илья' 'Инна' 'Ирина' 'Камилла' 'Карина' 'Каролина' 'Кира' 'Кирилл'\n",
      " 'Константин' 'Кристина' 'Ксения' 'Лариса' 'Лев' 'Леонид' 'Лиана' 'Лидия'\n",
      " 'Лилия' 'Любовь' 'Людмила' 'Мадина' 'Майя' 'Макар' 'Максим' 'Марат'\n",
      " 'Маргарита' 'Марина' 'Мария' 'Марк' 'Марсель' 'Матвей' 'Мелания' 'Милана'\n",
      " 'Милена' 'Мирон' 'Мирослав' 'Мирослава' 'Михаил' 'Назар' 'Наталия'\n",
      " 'Наталья' 'Наташа' 'Нелли' 'Ника' 'Никита' 'Николай' 'Нина' 'Одиссей'\n",
      " 'Оксана' 'Олег' 'Олеся' 'Ольга' 'Павел' 'Петр' 'Платон' 'Полина' 'Радмир'\n",
      " 'Рамиль' 'Регина' 'Роберт' 'Родион' 'Роман' 'Ростислав' 'Руслан' 'Рустам'\n",
      " 'Савелий' 'Самир' 'Самира' 'Светлана' 'Святогор' 'Святослав' 'Семен'\n",
      " 'Сергей' 'Снежана' 'София' 'Софья' 'Станислав' 'Степан' 'Стефания'\n",
      " 'Таисия' 'Тамара' 'Тамерлан' 'Татьяна' 'Тимофей' 'Тимур' 'Тихон' 'Ульяна'\n",
      " 'Федор' 'Эвелина' 'Эдуард' 'Элина' 'Эльвира' 'Эльмира' 'Эмилия' 'Эмиль'\n",
      " 'Юлиана' 'Юлия' 'Юрий' 'Ян' 'Яна' 'Яромир' 'Ярослав' 'Ярослава' 'Ясмина']\n",
      "Уникальные значения колонки \"city\": ['Екатеринбург' 'Краснодар' 'Москва' 'Омск' 'Пятигорск' 'Ростов-на-Дону'\n",
      " 'Сочи' 'Тюмень']\n",
      "Уникальные значения колонки \"subscription_type\": ['free' 'ultra']\n"
     ]
    }
   ],
   "source": [
    "print('Уникальные значения колонки \"name\":', user_data['name'].sort_values().unique())\n",
    "print('Уникальные значения колонки \"city\":', user_data['city'].sort_values().unique())\n",
    "print('Уникальные значения колонки \"subscription_type\":', user_data['subscription_type'].sort_values().unique())"
   ]
  },
  {
   "cell_type": "markdown",
   "id": "43082fb7",
   "metadata": {},
   "source": [
    "Похоже, что неявных дубликатов нет, так что теперь можно приступить к исследовательскому анализу данных"
   ]
  },
  {
   "cell_type": "markdown",
   "id": "212593c7",
   "metadata": {},
   "source": [
    "#### Шаг 3. Исследовательский анализ данных\n",
    "[К содержанию](#contents)"
   ]
  },
  {
   "cell_type": "markdown",
   "id": "06824ffa",
   "metadata": {},
   "source": [
    "##### Частота встречаемости городов"
   ]
  },
  {
   "cell_type": "markdown",
   "id": "519d40dd",
   "metadata": {},
   "source": [
    "Оценим, в каких городах чаще всего берут в аренду самокаты"
   ]
  },
  {
   "cell_type": "code",
   "execution_count": 13,
   "id": "172bff0c",
   "metadata": {},
   "outputs": [
    {
     "data": {
      "text/html": [
       "<div>\n",
       "<style scoped>\n",
       "    .dataframe tbody tr th:only-of-type {\n",
       "        vertical-align: middle;\n",
       "    }\n",
       "\n",
       "    .dataframe tbody tr th {\n",
       "        vertical-align: top;\n",
       "    }\n",
       "\n",
       "    .dataframe thead th {\n",
       "        text-align: right;\n",
       "    }\n",
       "</style>\n",
       "<table border=\"1\" class=\"dataframe\">\n",
       "  <thead>\n",
       "    <tr style=\"text-align: right;\">\n",
       "      <th></th>\n",
       "      <th>count</th>\n",
       "    </tr>\n",
       "    <tr>\n",
       "      <th>city</th>\n",
       "      <th></th>\n",
       "    </tr>\n",
       "  </thead>\n",
       "  <tbody>\n",
       "    <tr>\n",
       "      <th>Пятигорск</th>\n",
       "      <td>219</td>\n",
       "    </tr>\n",
       "    <tr>\n",
       "      <th>Екатеринбург</th>\n",
       "      <td>204</td>\n",
       "    </tr>\n",
       "    <tr>\n",
       "      <th>Ростов-на-Дону</th>\n",
       "      <td>198</td>\n",
       "    </tr>\n",
       "    <tr>\n",
       "      <th>Краснодар</th>\n",
       "      <td>193</td>\n",
       "    </tr>\n",
       "    <tr>\n",
       "      <th>Сочи</th>\n",
       "      <td>189</td>\n",
       "    </tr>\n",
       "    <tr>\n",
       "      <th>Омск</th>\n",
       "      <td>183</td>\n",
       "    </tr>\n",
       "    <tr>\n",
       "      <th>Тюмень</th>\n",
       "      <td>180</td>\n",
       "    </tr>\n",
       "    <tr>\n",
       "      <th>Москва</th>\n",
       "      <td>168</td>\n",
       "    </tr>\n",
       "  </tbody>\n",
       "</table>\n",
       "</div>"
      ],
      "text/plain": [
       "                count\n",
       "city                 \n",
       "Пятигорск         219\n",
       "Екатеринбург      204\n",
       "Ростов-на-Дону    198\n",
       "Краснодар         193\n",
       "Сочи              189\n",
       "Омск              183\n",
       "Тюмень            180\n",
       "Москва            168"
      ]
     },
     "metadata": {},
     "output_type": "display_data"
    },
    {
     "data": {
      "image/png": "[encoded data removed]",
      "text/plain": [
       "<Figure size 1400x600 with 1 Axes>"
      ]
     },
     "metadata": {},
     "output_type": "display_data"
    }
   ],
   "source": [
    "city_data = (user_data\n",
    "             .pivot_table(index='city',values='age',aggfunc='count')\n",
    "            )\n",
    "city_data.columns = ['count']\n",
    "city_data.sort_values(by='count', inplace=True, ascending=False)\n",
    "display(city_data)\n",
    "city_data.plot(grid=False,\n",
    "               kind='barh',\n",
    "               color='green',\n",
    "               title='Количество пользователей в каждом городе',\n",
    "               xlabel='Город',\n",
    "               legend=False,\n",
    "               figsize=(14,6))\n",
    "plt.xlabel('Количество пользователей, чел.')\n",
    "plt.show();"
   ]
  },
  {
   "cell_type": "markdown",
   "id": "a6ac1526",
   "metadata": {},
   "source": [
    "Всего прокатом пользуются в 8 городах России:\n",
    "* Чаще всего пользуются в Пятигорске и Екатеринбурге (более 200 человек)\n",
    "* Реже всего пользуются в Москве\n",
    "* В топ-5 вошли:\n",
    "    * Пятигорск\n",
    "    * Екатеринбург\n",
    "    * Ростов-на-Дону\n",
    "    * Краснодар\n",
    "    * Сочи"
   ]
  },
  {
   "cell_type": "markdown",
   "id": "7aa7b82c",
   "metadata": {},
   "source": [
    "##### Соотношение пользователей с подпиской и без подписки\n",
    "[К содержанию](#contents)"
   ]
  },
  {
   "cell_type": "markdown",
   "id": "4873b751",
   "metadata": {},
   "source": [
    "Найдём соотношение между количеством пользователей с подпиской и без подписки."
   ]
  },
  {
   "cell_type": "code",
   "execution_count": 14,
   "id": "ccc543df",
   "metadata": {},
   "outputs": [
    {
     "data": {
      "image/png": "[encoded data removed]",
      "text/plain": [
       "<Figure size 500x500 with 1 Axes>"
      ]
     },
     "metadata": {},
     "output_type": "display_data"
    },
    {
     "data": {
      "text/html": [
       "<div>\n",
       "<style scoped>\n",
       "    .dataframe tbody tr th:only-of-type {\n",
       "        vertical-align: middle;\n",
       "    }\n",
       "\n",
       "    .dataframe tbody tr th {\n",
       "        vertical-align: top;\n",
       "    }\n",
       "\n",
       "    .dataframe thead th {\n",
       "        text-align: right;\n",
       "    }\n",
       "</style>\n",
       "<table border=\"1\" class=\"dataframe\">\n",
       "  <thead>\n",
       "    <tr style=\"text-align: right;\">\n",
       "      <th></th>\n",
       "      <th>count</th>\n",
       "      <th>percent</th>\n",
       "    </tr>\n",
       "    <tr>\n",
       "      <th>subscription_type</th>\n",
       "      <th></th>\n",
       "      <th></th>\n",
       "    </tr>\n",
       "  </thead>\n",
       "  <tbody>\n",
       "    <tr>\n",
       "      <th>free</th>\n",
       "      <td>835</td>\n",
       "      <td>54.432855</td>\n",
       "    </tr>\n",
       "    <tr>\n",
       "      <th>ultra</th>\n",
       "      <td>699</td>\n",
       "      <td>45.567145</td>\n",
       "    </tr>\n",
       "  </tbody>\n",
       "</table>\n",
       "</div>"
      ],
      "text/plain": [
       "                   count    percent\n",
       "subscription_type                  \n",
       "free                 835  54.432855\n",
       "ultra                699  45.567145"
      ]
     },
     "execution_count": 14,
     "metadata": {},
     "output_type": "execute_result"
    }
   ],
   "source": [
    "#Построим график соотношения\n",
    "(user_data\n",
    " .pivot_table(index='subscription_type', values='user_id', aggfunc='count')\n",
    " .plot(y='user_id', \n",
    "       kind='pie', \n",
    "       figsize=(5,5), \n",
    "       title='Доля пользователей по типу подписки',\n",
    "       ylabel='Пользователи',\n",
    "       legend = True,\n",
    "       autopct=\"%.1f%%\"))\n",
    "plt.legend(['Без подписки','С подпиской'])\n",
    "plt.show()\n",
    "#Выведем таблицу с соотношением\n",
    "#Для начала посчитаем, сколько у нас пользователей с подпиской и без подписки:\n",
    "#Сгруппируем пользователей по типу подписки и посчитаем их количество методом count\n",
    "subscribe_users = user_data.pivot_table(index='subscription_type',\n",
    "                                        values='user_id', \n",
    "                                        aggfunc='count')\n",
    "#В получившейся таблице переименуем колонку для удобства восприятия\n",
    "subscribe_users.columns = ['count']\n",
    "#Теперь добавим столбец с соотношением пользователей в процентах\n",
    "#Разделим количество пользователей в категории на общее количество пользователей и умножим на 100\n",
    "subscribe_users['percent'] = (subscribe_users['count']/subscribe_users['count'].sum())*100\n",
    "subscribe_users"
   ]
  },
  {
   "cell_type": "markdown",
   "id": "3ea5fb24",
   "metadata": {},
   "source": [
    "Более половины пользователей не оформляют подписку (~54%). Скорее всего это люди, которые редко пользуются сервисом и не видят выгоды в оформлении подписки.   \n",
    "Только около 46% пользователей оформили подписку."
   ]
  },
  {
   "cell_type": "markdown",
   "id": "9c265880",
   "metadata": {},
   "source": [
    "##### Возраст пользователей\n",
    "[К содержанию](#contents)"
   ]
  },
  {
   "cell_type": "code",
   "execution_count": 15,
   "id": "769d7de4",
   "metadata": {},
   "outputs": [
    {
     "data": {
      "image/png": "[encoded data removed]",
      "text/plain": [
       "<Figure size 640x480 with 1 Axes>"
      ]
     },
     "metadata": {},
     "output_type": "display_data"
    },
    {
     "data": {
      "text/plain": [
       "count    1534.000000\n",
       "mean       24.903520\n",
       "std         4.572367\n",
       "min        12.000000\n",
       "25%        22.000000\n",
       "50%        25.000000\n",
       "75%        28.000000\n",
       "max        43.000000\n",
       "Name: age, dtype: float64"
      ]
     },
     "execution_count": 15,
     "metadata": {},
     "output_type": "execute_result"
    }
   ],
   "source": [
    "user_data['age'].hist()\n",
    "plt.xlabel('Возраст')\n",
    "plt.ylabel('Количество пользователей')\n",
    "plt.title('Распределение пользователей по возрасту')\n",
    "plt.show()\n",
    "user_data['age'].describe()"
   ]
  },
  {
   "cell_type": "markdown",
   "id": "641615f7",
   "metadata": {},
   "source": [
    "* Чаще всего сервисом пользуются люди 25 лет;\n",
    "* Наибольшее число пользователей имеют возраст от 18 до 31 года;\n",
    "* Самому молодому пользователю 12 лет (я надеюсь там есть ограничение скорости в зависимости от возраста);\n",
    "* Самому старшему пользователю 43 года;\n",
    "* Люди старше 37 лет реже всего пользуются сервисом."
   ]
  },
  {
   "cell_type": "markdown",
   "id": "a0099305",
   "metadata": {},
   "source": [
    "##### Расстояние, которое пользователь преодолел за одну поездку\n",
    "[К содержанию](#contents)"
   ]
  },
  {
   "cell_type": "code",
   "execution_count": 16,
   "id": "40e0192a",
   "metadata": {},
   "outputs": [
    {
     "data": {
      "image/png": "[encoded data removed]",
      "text/plain": [
       "<Figure size 640x480 with 1 Axes>"
      ]
     },
     "metadata": {},
     "output_type": "display_data"
    },
    {
     "data": {
      "text/plain": [
       "count    18068.000000\n",
       "mean      3070.659976\n",
       "std       1116.831209\n",
       "min          0.855683\n",
       "25%       2543.226360\n",
       "50%       3133.609994\n",
       "75%       3776.222735\n",
       "max       7211.007745\n",
       "Name: distance, dtype: float64"
      ]
     },
     "execution_count": 16,
     "metadata": {},
     "output_type": "execute_result"
    }
   ],
   "source": [
    "rides_data['distance'].hist(bins=20)\n",
    "plt.xlabel('Расстояние, м')\n",
    "plt.ylabel('Количество пользователей')\n",
    "plt.title('Распределение пользователей по преодоленному расстоянию')\n",
    "plt.show()\n",
    "rides_data['distance'].describe()"
   ]
  },
  {
   "cell_type": "markdown",
   "id": "23e889a7",
   "metadata": {},
   "source": [
    "* Минимальное расстрояние, которое совершили на самокате - 0.856 метров (может случайно нажали пуск, может это аномалии данных);\n",
    "* Максимальное расстояние за одну поездку составило 7.2 километра;\n",
    "* В среднем пользователи проезжают от 3 до 3.134 километров;\n",
    "* Больше всего поездок совершается на расстояние от 2.1 до 4.2 километров;\n",
    "* Реже всего самокат арендуют для поездок более чем на 5 километров."
   ]
  },
  {
   "cell_type": "code",
   "execution_count": 17,
   "id": "69dc0b91",
   "metadata": {},
   "outputs": [
    {
     "data": {
      "image/png": "[encoded data removed]",
      "text/plain": [
       "<Figure size 1000x700 with 1 Axes>"
      ]
     },
     "metadata": {},
     "output_type": "display_data"
    }
   ],
   "source": [
    "rides_data.boxplot(column='distance', figsize=(10,7))\n",
    "plt.xlabel('')\n",
    "plt.ylabel('Расстояние, м')\n",
    "plt.title('Среднее расстояние, которые преодолевают пользователи за поездку')\n",
    "plt.show()"
   ]
  },
  {
   "cell_type": "markdown",
   "id": "2472b2b2",
   "metadata": {},
   "source": [
    "Да, действительно присутствуют аномалии данных, но их природу нам объяснить не удастся, так как это считается самой программой."
   ]
  },
  {
   "cell_type": "markdown",
   "id": "7c58db6a",
   "metadata": {},
   "source": [
    "##### Продолжительность поездок\n",
    "[К содержанию](#contents)"
   ]
  },
  {
   "cell_type": "code",
   "execution_count": 18,
   "id": "4e630659",
   "metadata": {},
   "outputs": [
    {
     "data": {
      "image/png": "[encoded data removed]",
      "text/plain": [
       "<Figure size 640x480 with 1 Axes>"
      ]
     },
     "metadata": {},
     "output_type": "display_data"
    },
    {
     "name": "stdout",
     "output_type": "stream",
     "text": [
      "Минимальное время поездки: 0.5 \n",
      "Максимальное время поездки: 40.82396261922424 \n",
      "Среднее время за поездку: 17.80501119798444 \n",
      "Время, которое чаще всего проезжают: 17.678394530393803\n"
     ]
    }
   ],
   "source": [
    "rides_data['duration'].hist()\n",
    "plt.xlabel('Продолжительность, мин')\n",
    "plt.ylabel('Количество пользователей')\n",
    "plt.title('Распределение пользователей по продолжитльности поездки')\n",
    "plt.show()\n",
    "print('Минимальное время поездки:', rides_data['duration'].min(),\n",
    "      '\\nМаксимальное время поездки:', rides_data['duration'].max(),\n",
    "      '\\nСреднее время за поездку:', rides_data['duration'].mean(),\n",
    "      '\\nВремя, которое чаще всего проезжают:', rides_data['duration'].median()\n",
    "     )"
   ]
  },
  {
   "cell_type": "markdown",
   "id": "d65a2106",
   "metadata": {},
   "source": [
    "* Минимальное время поездки составляет 30 секунд - скорее всего это ошибка, возможно случайно была нажата кнопка старт, или самокат оказался разряжен, или кто-то мухлюет с временем. Увы, мы этого не узнаем сейчас;\n",
    "* Около ста поездок совершаются менее чем за 5 минут, это немного странно, стоит проверить, учитывая минимальное время поездки;\n",
    "* В среднем на поездки тратят от 17.7 до 17.8 минут - около 18 минут;\n",
    "* Максимальное время поездки составило почти 41 минуту (возможно это была как раз та поездка на 7 километров, или человек арендовал самокат на время прогулки и не нажимал кнопку `стоп`);\n",
    "* Больше всего поездок совершается за промежуток от 8 до 25 минут."
   ]
  },
  {
   "cell_type": "code",
   "execution_count": 19,
   "id": "66e529b2",
   "metadata": {},
   "outputs": [
    {
     "data": {
      "image/png": "[encoded data removed]",
      "text/plain": [
       "<Figure size 1000x700 with 1 Axes>"
      ]
     },
     "metadata": {},
     "output_type": "display_data"
    }
   ],
   "source": [
    "rides_data.boxplot(column='duration', figsize=(10,7))\n",
    "plt.title('Средняя продолжительность поездки')\n",
    "plt.xlabel('')\n",
    "plt.ylabel('Продолжительность, мин')\n",
    "plt.show()"
   ]
  },
  {
   "cell_type": "markdown",
   "id": "e447ffc4",
   "metadata": {},
   "source": [
    "Действительно, в этой колонке есть аномальные значения, но их природа нам неизвестна. В данном случае их не так много, и это не должно сильно повлиять на выборку."
   ]
  },
  {
   "cell_type": "markdown",
   "id": "4ef51331",
   "metadata": {},
   "source": [
    "#### Шаг 4. Объединение данных\n",
    "[К содержанию](#contents)"
   ]
  },
  {
   "cell_type": "markdown",
   "id": "cab2f76e",
   "metadata": {},
   "source": [
    "##### Создание общего датафрейма"
   ]
  },
  {
   "cell_type": "markdown",
   "id": "69ded0d2",
   "metadata": {},
   "source": [
    "Объединим все датафреймы в единый датафрейм, чтобы было удобнее работать"
   ]
  },
  {
   "cell_type": "code",
   "execution_count": 20,
   "id": "e802bc0e",
   "metadata": {},
   "outputs": [
    {
     "name": "stdout",
     "output_type": "stream",
     "text": [
      "<class 'pandas.core.frame.DataFrame'>\n",
      "Int64Index: 18068 entries, 0 to 18067\n",
      "Data columns (total 12 columns):\n",
      " #   Column             Non-Null Count  Dtype         \n",
      "---  ------             --------------  -----         \n",
      " 0   user_id            18068 non-null  int64         \n",
      " 1   name               18068 non-null  object        \n",
      " 2   age                18068 non-null  int64         \n",
      " 3   city               18068 non-null  object        \n",
      " 4   subscription_type  18068 non-null  object        \n",
      " 5   distance           18068 non-null  float64       \n",
      " 6   duration           18068 non-null  float64       \n",
      " 7   date               18068 non-null  datetime64[ns]\n",
      " 8   month_date         18068 non-null  int64         \n",
      " 9   minute_price       18068 non-null  int64         \n",
      " 10  start_ride_price   18068 non-null  int64         \n",
      " 11  subscription_fee   18068 non-null  int64         \n",
      "dtypes: datetime64[ns](1), float64(2), int64(6), object(3)\n",
      "memory usage: 1.8+ MB\n"
     ]
    }
   ],
   "source": [
    "go_fast_data = user_data.merge(rides_data, on='user_id')\n",
    "go_fast_data = go_fast_data.merge(subscriptions_data, on='subscription_type')\n",
    "go_fast_data.info()"
   ]
  },
  {
   "cell_type": "markdown",
   "id": "0e67e184",
   "metadata": {},
   "source": [
    "Отлично, у нас получилось 18068 строк и все столбцы на месте, мы ничего не потеряли."
   ]
  },
  {
   "cell_type": "markdown",
   "id": "79343241",
   "metadata": {},
   "source": [
    "##### Данные о пользователях без подписки\n",
    "[К содержанию](#contents)"
   ]
  },
  {
   "cell_type": "markdown",
   "id": "6bdce0fe",
   "metadata": {},
   "source": [
    "Теперь из этого датафрейма \"вытащим\" данные всех пользователей, которые не оформляли подписку"
   ]
  },
  {
   "cell_type": "code",
   "execution_count": 21,
   "id": "2b77b8a5",
   "metadata": {},
   "outputs": [
    {
     "data": {
      "image/png": "[encoded data removed]",
      "text/plain": [
       "<Figure size 640x480 with 1 Axes>"
      ]
     },
     "metadata": {},
     "output_type": "display_data"
    },
    {
     "name": "stdout",
     "output_type": "stream",
     "text": [
      "Минимальное время поездки: 0.5 \n",
      "Максимальное время поездки: 34.948498234556965 \n",
      "Среднее время за поездку: 17.39090929866399 \n",
      "Время, которое чаще всего проезжают: 17.326890226082043\n"
     ]
    }
   ],
   "source": [
    "free_users = go_fast_data.query('subscription_type == \"free\"')\n",
    "free_users['duration'].hist(color='lime')\n",
    "plt.xlabel('Продолжительность, мин')\n",
    "plt.ylabel('Количество пользователей')\n",
    "plt.title('Продолжительность поездок пользователей без подписки')\n",
    "plt.show()\n",
    "print('Минимальное время поездки:', free_users['duration'].min(),\n",
    "      '\\nМаксимальное время поездки:', free_users['duration'].max(),\n",
    "      '\\nСреднее время за поездку:', free_users['duration'].mean(),\n",
    "      '\\nВремя, которое чаще всего проезжают:', free_users['duration'].median()\n",
    "     )"
   ]
  },
  {
   "cell_type": "markdown",
   "id": "c79e726a",
   "metadata": {},
   "source": [
    "Мы получили датафрейм, в котором содержатся данные о пользователях без подписки, изучим, как подписка влияет на продолжительность поездки по времени:\n",
    "* Именно здесь присутствует аномально низкая продолжительность сессии;\n",
    "* Среднее время поездки составляет 17.2-17.4 минуты, чуть-чуть ниже среднего для всей таблицы;\n",
    "* Максимальное время поездки в этой категории составило 35 минут;\n",
    "* Больше всего поездок совершается продолжительностью от 11 до 24 минут."
   ]
  },
  {
   "cell_type": "code",
   "execution_count": 22,
   "id": "79b3bf9f",
   "metadata": {},
   "outputs": [
    {
     "data": {
      "image/png": "[encoded data removed]",
      "text/plain": [
       "<Figure size 640x480 with 1 Axes>"
      ]
     },
     "metadata": {},
     "output_type": "display_data"
    },
    {
     "name": "stdout",
     "output_type": "stream",
     "text": [
      "Минимальное расстояние поездки: 0.855682925681208 \n",
      "Максимальное расстояние поездки: 7211.007744598519 \n",
      "Среднее расстояние, которое проезжают за поездку: 3045.495281671816 \n",
      "Расстояние, которое чаще всего проезжают: 3114.648464847295\n"
     ]
    }
   ],
   "source": [
    "free_users['distance'].hist(color='green')\n",
    "plt.xlabel('Расстояние, м')\n",
    "plt.ylabel('Количество пользователей')\n",
    "plt.title('Распределение пользователей без подписки по преодоленному расстоянию')\n",
    "plt.show()\n",
    "print('Минимальное расстояние поездки:', free_users['distance'].min(),\n",
    "      '\\nМаксимальное расстояние поездки:', free_users['distance'].max(),\n",
    "      '\\nСреднее расстояние, которое проезжают за поездку:', free_users['distance'].mean(),\n",
    "      '\\nРасстояние, которое чаще всего проезжают:', free_users['distance'].median()\n",
    "     )"
   ]
  },
  {
   "cell_type": "markdown",
   "id": "ac927627",
   "metadata": {},
   "source": [
    "А как дела обстоят с продолжительностью поездок в этой категории:\n",
    "* Минимальное расстояние 0.856 метров, мы узнали, что оно принадлежит данной категории пользователей\n",
    "* Присутствует \"всплеск\" поездок на расстояние менее 700 метров (либо это аномалии, либо это \"случайные\" поездки или поездки \"на пробу\");\n",
    "* Среднее расстояние, которое преодолевают за поездку от 3 до 3.12 километров;\n",
    "* Максимальное расстояние поездки составило 7.2 километра;\n",
    "* Больше всего поездок совершают на расстояние от 2.1 до 4.2 километров."
   ]
  },
  {
   "cell_type": "markdown",
   "id": "390586ca",
   "metadata": {},
   "source": [
    "##### Данные о пользователях с подпиской\n",
    "[К содержанию](#contents)"
   ]
  },
  {
   "cell_type": "code",
   "execution_count": 23,
   "id": "ecdaf6c8",
   "metadata": {},
   "outputs": [
    {
     "data": {
      "image/png": "[encoded data removed]",
      "text/plain": [
       "<Figure size 640x480 with 1 Axes>"
      ]
     },
     "metadata": {},
     "output_type": "display_data"
    },
    {
     "name": "stdout",
     "output_type": "stream",
     "text": [
      "Минимальное расстояние поездки: 244.21043833522924 \n",
      "Максимальное расстояние поездки: 5699.769662039453 \n",
      "Среднее расстояние, которое проезжают за поездку: 3115.4453880370247 \n",
      "Расстояние, которое чаще всего проезжают: 3148.6372291760854\n"
     ]
    }
   ],
   "source": [
    "ultra_users = go_fast_data.query('subscription_type == \"ultra\"')\n",
    "ultra_users['distance'].hist(color='violet', bins=50)\n",
    "plt.xlabel('Расстояние, м')\n",
    "plt.ylabel('Количество пользователей')\n",
    "plt.title('Распределение пользователей c подпиской по преодоленному расстоянию')\n",
    "plt.show()\n",
    "print('Минимальное расстояние поездки:', ultra_users['distance'].min(),\n",
    "      '\\nМаксимальное расстояние поездки:', ultra_users['distance'].max(),\n",
    "      '\\nСреднее расстояние, которое проезжают за поездку:', ultra_users['distance'].mean(),\n",
    "      '\\nРасстояние, которое чаще всего проезжают:', ultra_users['distance'].median()\n",
    "     )"
   ]
  },
  {
   "cell_type": "markdown",
   "id": "cc63083c",
   "metadata": {},
   "source": [
    "В данной категории пользователей расстояние немного отличается:\n",
    "* Минимальное расстояние составляет уже 244 метра, это гораздо правдоподобнее;\n",
    "* В среднем поездки совершают на 3.1-3.2 километра, что не сильно отличается от пользователей без подписки;\n",
    "* Максимальное расстояние, которое преодолели пользователи с подпиской составляет 5.7 километров;\n",
    "* Больше всего поездок совершалось на расстояние от 2.5 до 3.2 километров;\n",
    "* В области 1 километра также наблюдается небольшой выброс, который может быть связан с аномалиями, а возможно пользователи часто катаются от дома до метро.\n",
    "* Также есть всплеск в районе 4 километров, значит пользователи предпочитают в основном 3 типа поездок:\n",
    "    * Очень короткие (около километра, например до ближайшего метро)\n",
    "    * Длинные (около 3 километров)\n",
    "    * Очень длинные (от 4 километров)"
   ]
  },
  {
   "cell_type": "code",
   "execution_count": 24,
   "id": "f2255025",
   "metadata": {},
   "outputs": [
    {
     "data": {
      "image/png": "[encoded data removed]",
      "text/plain": [
       "<Figure size 640x480 with 1 Axes>"
      ]
     },
     "metadata": {},
     "output_type": "display_data"
    },
    {
     "name": "stdout",
     "output_type": "stream",
     "text": [
      "Минимальное время поездки: 3.760352854281739 \n",
      "Максимальное время поездки: 40.82396261922424 \n",
      "Среднее время за поездку: 18.54198516280583 \n",
      "Время, которое чаще всего проезжают: 18.17815320055055\n"
     ]
    }
   ],
   "source": [
    "ultra_users['duration'].hist()\n",
    "plt.xlabel('Продолжительность, мин.')\n",
    "plt.ylabel('Количество пользователей')\n",
    "plt.title('Продолжительность поездок пользователей с подпиской')\n",
    "plt.show()\n",
    "print('Минимальное время поездки:', ultra_users['duration'].min(),\n",
    "      '\\nМаксимальное время поездки:', ultra_users['duration'].max(),\n",
    "      '\\nСреднее время за поездку:', ultra_users['duration'].mean(),\n",
    "      '\\nВремя, которое чаще всего проезжают:', ultra_users['duration'].median()\n",
    "     )"
   ]
  },
  {
   "cell_type": "markdown",
   "id": "f2fc501d",
   "metadata": {},
   "source": [
    "В категории пользователей с подпиской продолжительность поездок уже иная:\n",
    "* Минимальное время поездки составляет почти 4 минуты;\n",
    "* Среднее время поездки варьирует от 18 до 18.5 минут (примерно на минуту дольше, чем пользователи без подписки);\n",
    "* Максимальное время поездки составило почти 41 минуту;\n",
    "* Больше всего поездок совершается длительностью от 12 до 22 минут."
   ]
  },
  {
   "cell_type": "markdown",
   "id": "402d620f",
   "metadata": {},
   "source": [
    "#### Шаг 5. Подсчёт выручки\n",
    "[К содержанию](#contents)"
   ]
  },
  {
   "cell_type": "code",
   "execution_count": 25,
   "id": "53049e0a",
   "metadata": {},
   "outputs": [
    {
     "data": {
      "text/html": [
       "<div>\n",
       "<style scoped>\n",
       "    .dataframe tbody tr th:only-of-type {\n",
       "        vertical-align: middle;\n",
       "    }\n",
       "\n",
       "    .dataframe tbody tr th {\n",
       "        vertical-align: top;\n",
       "    }\n",
       "\n",
       "    .dataframe thead th {\n",
       "        text-align: right;\n",
       "    }\n",
       "</style>\n",
       "<table border=\"1\" class=\"dataframe\">\n",
       "  <thead>\n",
       "    <tr style=\"text-align: right;\">\n",
       "      <th></th>\n",
       "      <th>user_id</th>\n",
       "      <th>subscription_type</th>\n",
       "      <th>subscription_fee</th>\n",
       "      <th>start_ride_price</th>\n",
       "      <th>minute_price</th>\n",
       "      <th>month_date</th>\n",
       "      <th>rides</th>\n",
       "      <th>distance_sum</th>\n",
       "      <th>duration_sum</th>\n",
       "      <th>revenue</th>\n",
       "    </tr>\n",
       "  </thead>\n",
       "  <tbody>\n",
       "    <tr>\n",
       "      <th>0</th>\n",
       "      <td>1</td>\n",
       "      <td>ultra</td>\n",
       "      <td>199</td>\n",
       "      <td>0</td>\n",
       "      <td>6</td>\n",
       "      <td>1</td>\n",
       "      <td>2</td>\n",
       "      <td>7028.0</td>\n",
       "      <td>42.0</td>\n",
       "      <td>451.0</td>\n",
       "    </tr>\n",
       "    <tr>\n",
       "      <th>1</th>\n",
       "      <td>1</td>\n",
       "      <td>ultra</td>\n",
       "      <td>199</td>\n",
       "      <td>0</td>\n",
       "      <td>6</td>\n",
       "      <td>4</td>\n",
       "      <td>1</td>\n",
       "      <td>755.0</td>\n",
       "      <td>7.0</td>\n",
       "      <td>241.0</td>\n",
       "    </tr>\n",
       "    <tr>\n",
       "      <th>2</th>\n",
       "      <td>1</td>\n",
       "      <td>ultra</td>\n",
       "      <td>199</td>\n",
       "      <td>0</td>\n",
       "      <td>6</td>\n",
       "      <td>8</td>\n",
       "      <td>2</td>\n",
       "      <td>6724.0</td>\n",
       "      <td>46.0</td>\n",
       "      <td>475.0</td>\n",
       "    </tr>\n",
       "    <tr>\n",
       "      <th>3</th>\n",
       "      <td>1</td>\n",
       "      <td>ultra</td>\n",
       "      <td>199</td>\n",
       "      <td>0</td>\n",
       "      <td>6</td>\n",
       "      <td>10</td>\n",
       "      <td>2</td>\n",
       "      <td>5811.0</td>\n",
       "      <td>32.0</td>\n",
       "      <td>391.0</td>\n",
       "    </tr>\n",
       "    <tr>\n",
       "      <th>4</th>\n",
       "      <td>1</td>\n",
       "      <td>ultra</td>\n",
       "      <td>199</td>\n",
       "      <td>0</td>\n",
       "      <td>6</td>\n",
       "      <td>11</td>\n",
       "      <td>3</td>\n",
       "      <td>7005.0</td>\n",
       "      <td>56.0</td>\n",
       "      <td>535.0</td>\n",
       "    </tr>\n",
       "  </tbody>\n",
       "</table>\n",
       "</div>"
      ],
      "text/plain": [
       "   user_id subscription_type  subscription_fee  start_ride_price  \\\n",
       "0        1             ultra               199                 0   \n",
       "1        1             ultra               199                 0   \n",
       "2        1             ultra               199                 0   \n",
       "3        1             ultra               199                 0   \n",
       "4        1             ultra               199                 0   \n",
       "\n",
       "   minute_price  month_date  rides  distance_sum  duration_sum  revenue  \n",
       "0             6           1      2        7028.0          42.0    451.0  \n",
       "1             6           4      1         755.0           7.0    241.0  \n",
       "2             6           8      2        6724.0          46.0    475.0  \n",
       "3             6          10      2        5811.0          32.0    391.0  \n",
       "4             6          11      3        7005.0          56.0    535.0  "
      ]
     },
     "execution_count": 25,
     "metadata": {},
     "output_type": "execute_result"
    }
   ],
   "source": [
    "#Округлим значения до минут\n",
    "go_fast_data['distance'] = np.ceil(go_fast_data['distance'])\n",
    "go_fast_data['duration'] = np.ceil(go_fast_data['duration'])\n",
    "#Создадим датафрейм, который содержит необходимые для рассчета данные\n",
    "revenue_data = (go_fast_data\n",
    "                .groupby(by=['user_id',\n",
    "                             'subscription_type',\n",
    "                             'subscription_fee',\n",
    "                             'start_ride_price',\n",
    "                             'minute_price',\n",
    "                             'month_date'], as_index=False)\n",
    "                .agg({'distance':['count','sum'], 'duration':['sum']}))\n",
    "#Переименуем колонки для удобства\n",
    "revenue_data.columns = ['user_id',\n",
    "                        'subscription_type',\n",
    "                        'subscription_fee',\n",
    "                        'start_ride_price', \n",
    "                        'minute_price',\n",
    "                        'month_date',\n",
    "                        'rides', \n",
    "                        'distance_sum', \n",
    "                        'duration_sum']\n",
    "\n",
    "#Произведем необходимые рассчеты\n",
    "revenue_data['revenue'] = (revenue_data['start_ride_price'] * revenue_data['rides']) +\\\n",
    "(revenue_data['minute_price']*revenue_data['duration_sum']) + revenue_data['subscription_fee']\n",
    "revenue_data.head()"
   ]
  },
  {
   "cell_type": "markdown",
   "id": "c4880285",
   "metadata": {},
   "source": [
    "Теперь создадим два отдельных датафрейма с помесячной выручкой для пользователей с подпиской и для пользователей без подписки, чтобы было удобно проводить сравнения."
   ]
  },
  {
   "cell_type": "code",
   "execution_count": 26,
   "id": "baa0e97a",
   "metadata": {},
   "outputs": [],
   "source": [
    "revenue_data_ultra = revenue_data.query('subscription_type == \"ultra\"')\n",
    "revenue_data_free = revenue_data.query('subscription_type == \"free\"')"
   ]
  },
  {
   "cell_type": "markdown",
   "id": "a48c3e44",
   "metadata": {},
   "source": [
    "Оценим, как распределяется помесячная оплата в наших новых выборках"
   ]
  },
  {
   "cell_type": "code",
   "execution_count": 27,
   "id": "04f3d50e",
   "metadata": {},
   "outputs": [
    {
     "data": {
      "image/png": "[encoded data removed]",
      "text/plain": [
       "<Figure size 640x480 with 1 Axes>"
      ]
     },
     "metadata": {},
     "output_type": "display_data"
    },
    {
     "data": {
      "image/png": "[encoded data removed]",
      "text/plain": [
       "<Figure size 640x480 with 1 Axes>"
      ]
     },
     "metadata": {},
     "output_type": "display_data"
    },
    {
     "data": {
      "text/plain": [
       "subscription_type\n",
       "free     328.641365\n",
       "ultra    362.792191\n",
       "Name: revenue, dtype: float64"
      ]
     },
     "execution_count": 27,
     "metadata": {},
     "output_type": "execute_result"
    }
   ],
   "source": [
    "revenue_data_ultra['revenue'].hist(color='blue', bins=30)\n",
    "plt.xlabel('Выручка')\n",
    "plt.ylabel('Количество пользователей')\n",
    "plt.title('Распределение помесячной выручки от пользователей с подпиской')\n",
    "plt.show()\n",
    "revenue_data_free['revenue'].hist(color='navy', bins=30)\n",
    "plt.xlabel('Выручка')\n",
    "plt.ylabel('Количество пользователей')\n",
    "plt.title('Рапределение помесячной выручки от пользователей без подписки')\n",
    "plt.show()\n",
    "revenue_data.groupby('subscription_type')['revenue'].mean()"
   ]
  },
  {
   "cell_type": "markdown",
   "id": "fbe97978",
   "metadata": {},
   "source": [
    "1. Как можно заметить из графиков, выручка для пользователей с подпиской стремится к распределению Пуассона. Возможно, при большем количестве данных (больше чем за один год) распределение помесячной выручки будет приближаться к нормальному.  \n",
    "\n",
    "2. В выборке пользователей без подписки все обстоит немного иначе:\n",
    "    * Большая часть пользователей тратит около 200 рублей в месяц;\n",
    "    * Есть второй пик в районе 400 рублей.  \n",
    "То есть пользователи без подписки делятся на два типа: те, кто совершает дешёвые поездки, и те, кто совершает \"дорогие\" поездки.\n",
    "\n",
    "В среднем, в обеих выборках пользователи в месяц тратят более 300 рублей. Кто из пользователей тратит больше предстоит выяснить позднее."
   ]
  },
  {
   "cell_type": "markdown",
   "id": "41545ac0",
   "metadata": {},
   "source": [
    "#### Шаг 6. Проверка гипотез\n",
    "[К содержанию](#contents)"
   ]
  },
  {
   "cell_type": "markdown",
   "id": "428e50a5",
   "metadata": {},
   "source": [
    "##### Пользователи с подпиской тратят больше времени на поездки"
   ]
  },
  {
   "cell_type": "markdown",
   "id": "1c83c905",
   "metadata": {},
   "source": [
    "Для того, чтобы проверить гипотезу, для начала зададим `нулевую` гипотезу, которая гласит: `\"Средние значения длительности поездки для выборки пользователей с подпиской и выборки пользователей без подписки равны\"`.    \n",
    "\n",
    "В качестве `альтернативной` гипотезы будем рассматривать: `\"Средняя продолжительность поездки выборки пользователей с подпиской больше средней продолжительности поездки выборки пользователей без подписки\"`.\n",
    "\n",
    "    Таким образом, если нулевая гипотеза будет опровергнута, то действительно, вероятность того, что пользователи с подпиской более выгодны для компании будет выглядеть реалистично.\n",
    "\n",
    "Для выполнения этой проверки воспользуемся t-тестом, так как наши выборки независимы друг от друга, их выборочные средние нормально распределены, однако, выборки разного размера, так что укажем, что дисперсии этих двух выборок не равны."
   ]
  },
  {
   "cell_type": "code",
   "execution_count": 28,
   "id": "030c5c85",
   "metadata": {},
   "outputs": [
    {
     "name": "stdout",
     "output_type": "stream",
     "text": [
      "p-value: 5.6757813771289775e-37\n",
      "Отвергаем нулевую гипотезу\n"
     ]
    }
   ],
   "source": [
    "#Зададим уровень значимости\n",
    "alpha = 0.05\n",
    "#Проводим t-тест для наших выборок\n",
    "results = st.ttest_ind(ultra_users['duration'],\n",
    "                       free_users['duration'],\n",
    "                       alternative='greater',\n",
    "                       equal_var=False\n",
    "                      )\n",
    "#Выведем на экран значение p-value\n",
    "print(f'p-value: {results.pvalue}')\n",
    "#Проверяем p-value\n",
    "if results.pvalue < alpha:\n",
    "    print('Отвергаем нулевую гипотезу')\n",
    "else:\n",
    "    print('Нулевую гипотезу отвергнуть не удалось')"
   ]
  },
  {
   "cell_type": "markdown",
   "id": "71a42a7d",
   "metadata": {},
   "source": [
    "В данном случае значение p-value оказалось намного меньше уровня статистической значимости, таким образом, мы отвергли нулевую гипотезу и можем предположить, что пользователи с подпиской могут быть выгоднее для компании. Но это предстоит проверить экспериментальным путём."
   ]
  },
  {
   "cell_type": "markdown",
   "id": "23fb5c9e",
   "metadata": {},
   "source": [
    "##### Пользователи с подпиской за одну поездку не проезжают больше 3130 метров\n",
    "[К содержанию](#contents)"
   ]
  },
  {
   "cell_type": "markdown",
   "id": "0e8b3a90",
   "metadata": {},
   "source": [
    "Для данного случая воспользуемся проверкой односторонней гипотезы. В данном случае - `правосторонняя`.\n",
    "\n",
    "В первую очередь зададим нулевую гипотезу:\n",
    "* Среднее расстояние поездки в выборке пользователей с подпиской равно 3130 метрам.  \n",
    "\n",
    "Альтернативная гипотеза будет звучать так:\n",
    "* Среднее расстояние поездке в выборке пользователей с подпиской `больше` 3130 метров.  \n",
    "\n",
    "Следовательно, наша цель, чтобы нулевая гипотеза не была отвергнута в пользу альтернативной. Тогда мы сможем сказать, что пользователи с подпиской проезжают не более 3130 метров. А значит и износ самокатов будет меньше и траты на их техобслуживание тоже."
   ]
  },
  {
   "cell_type": "code",
   "execution_count": 29,
   "id": "7fc67b6a",
   "metadata": {},
   "outputs": [
    {
     "name": "stdout",
     "output_type": "stream",
     "text": [
      "Значение p-value: 0.9195368847849785\n",
      "Пользователи проезжают 3130 метров и менее\n"
     ]
    }
   ],
   "source": [
    "#Зададим интересующее значение продолжительности поездки\n",
    "interested_distance = 3130\n",
    "#Зададим уровень статистической значимости\n",
    "alpha = 0.05\n",
    "#Проведем одностороннее тестирование\n",
    "results = st.ttest_1samp(ultra_users['distance'], interested_distance, alternative='greater')\n",
    "#Выведем значение p-value\n",
    "print(f'Значение p-value: {results.pvalue}')\n",
    "#Проверяем гипотезу\n",
    "if results.pvalue < alpha:\n",
    "    print('Пользователи проезжают более 3130 метров')\n",
    "else:\n",
    "    print('Пользователи проезжают 3130 метров и менее')"
   ]
  },
  {
   "cell_type": "markdown",
   "id": "287b0501",
   "metadata": {},
   "source": [
    "Нулевая гипотеза не отвергнута, а значит пользователи с подпиской проезжают в среднем не более 3130 метров за поездку. Возможно, что и в этом плане пользователи с подпиской гораздо выгоднее."
   ]
  },
  {
   "cell_type": "markdown",
   "id": "4db1178e",
   "metadata": {},
   "source": [
    "##### Помесячная выручка от пользователей с подпиской выше, чем от пользователей без подписки\n",
    "[К содержанию](#contents)"
   ]
  },
  {
   "cell_type": "markdown",
   "id": "2b690164",
   "metadata": {},
   "source": [
    "Как и в случае с первой гипотезой, которую мы проверяли, обратимся к методике сравнения двух независимых выборок с односторонним тестированием:\n",
    "* Нулевая гипотеза: *Помесячная выручка от пользователей с подпиской равна помесячной выручке от пользователей без подписки*\n",
    "* Альтернативаня гипотеза: *Помесячная выручка от пользователей с подпиской больше*\n",
    "\n",
    "Если нулевая гипотеза будет отвергнута, значит действительно, выручка от пользователей с подпиской может быть больше."
   ]
  },
  {
   "cell_type": "code",
   "execution_count": 30,
   "id": "10872265",
   "metadata": {},
   "outputs": [
    {
     "name": "stdout",
     "output_type": "stream",
     "text": [
      "Значение p-value: 8.874140893976874e-40\n",
      "Помесячная выручка от пользователей с подспиской больше\n"
     ]
    }
   ],
   "source": [
    "alpha = 0.05\n",
    "results = st.ttest_ind(revenue_data_ultra['revenue'],\n",
    "                       revenue_data_free['revenue'],\n",
    "                       equal_var=False,\n",
    "                       alternative='greater')\n",
    "print('Значение p-value:', results.pvalue)\n",
    "if results.pvalue < alpha:\n",
    "    print('Помесячная выручка от пользователей с подспиской больше')\n",
    "else:\n",
    "    print('Отвергнуть нулевую гипотезу не удалось')"
   ]
  },
  {
   "cell_type": "markdown",
   "id": "2beede65",
   "metadata": {},
   "source": [
    "Нам удалось отвергнуть нулевую гипотезу. Значит вероятнее всего, помесячная выручка от пользователей с подпиской в настоящий момент больше. Но кто знает, как это может измениться."
   ]
  },
  {
   "cell_type": "markdown",
   "id": "4c83d116",
   "metadata": {},
   "source": [
    "##### Какой тест необходимо провести для проверки гипотезы о снижении обращений в тех.поддержку после обновления\n",
    "[К содержанию](#contents)"
   ]
  },
  {
   "cell_type": "markdown",
   "id": "f04a936f",
   "metadata": {},
   "source": [
    "Для того, чтобы проверить, снизилось ли количество обращений в техподдержку после обновления необходимо провести t-тест для зависимых выборок. В качестве первой выборки будем рассматривать данные после обновления, в качестве второй выборки - данные до обновления. Сравнивать нужно среднее количество обращений.\n",
    "* В качестве нулевой гипотезы примем: *Среднее количество обращений в обеих выборках равно*\n",
    "* За альтернативную гипотезу примем: *Среднее количество обращений после обновления меньше, чем до*\n",
    "\n",
    "Таким образом это будет односторонняя (в данном случае левосторонняя) проверка гипотезы. В случае, если отвергается нулевая гипотеза, есть высокая вероятность, что среднее количество обращений после обновления уменьшилось."
   ]
  },
  {
   "cell_type": "markdown",
   "id": "61213c5e",
   "metadata": {},
   "source": [
    "#### Шаг 7. Распределения\n",
    "[К содержанию](#contents)"
   ]
  },
  {
   "cell_type": "markdown",
   "id": "bbf40639",
   "metadata": {},
   "source": [
    "##### Минимальное количество промокодов"
   ]
  },
  {
   "cell_type": "markdown",
   "id": "81b89da3",
   "metadata": {},
   "source": [
    "Нашей задачей является выяснить, сколько промокодов необходимо разослать, чтобы не менее 100 пользователей оформили с их помощью подписку и вероятность неудачи была не выше 5%. Однако, нужно учесть, что подписываются в результате 10% пользователей.  \n",
    "\n",
    "То есть у нас наблюдается биномиальное распределение, где у нас 2 парамерта:\n",
    "* p - вероятность успеха (10% или 0.1)\n",
    "* N - количество испытаний (Это нам необходимо найти)\n",
    "\n",
    "По предыдущей практике нам известно, что подписываются 10% всех пользователей. Предположим, что это каждый 10. Таким образом, чтобы получить не менее 100 успехов нужно разослать не менее 1000 промокодов (100 * 10). \n",
    "\n",
    "Проверим эту теорию:"
   ]
  },
  {
   "cell_type": "code",
   "execution_count": 31,
   "id": "139b6374",
   "metadata": {},
   "outputs": [
    {
     "data": {
      "image/png": "[encoded data removed]",
      "text/plain": [
       "<Figure size 640x480 with 1 Axes>"
      ]
     },
     "metadata": {},
     "output_type": "display_data"
    }
   ],
   "source": [
    "#Вероятность успеха\n",
    "p = 0.1\n",
    "#Сколько нужно разослать промокодов\n",
    "n = 1000\n",
    "#Сохраним список, который будет хранить значения распределения:\n",
    "distr = []\n",
    "#Строим распределение вероятностей\n",
    "for k in range(0,n+1):\n",
    "    choose = factorial(n)/(factorial(k)*factorial(n-k)) #Число исходов, приводящих к нужному событию\n",
    "    prob = choose*p**k*(1-p)**(n-k) #Вероятность\n",
    "    distr.append(prob)\n",
    "#строим график распределения вероятностей\n",
    "plt.bar(range(0, n + 1), distr)\n",
    "plt.title('Распределение вероятности получить 100 подписок')\n",
    "plt.xlabel('Число промокодов')\n",
    "plt.ylabel('Вероятность подписки')\n",
    "plt.show()"
   ]
  },
  {
   "cell_type": "markdown",
   "id": "012bfcbc",
   "metadata": {},
   "source": [
    "Да, если разослать 1000 промокодов, 100 подписок будет наиболее вероятным результатом, но какова вероятность получить 100 подписок в таком случае? Обратимся к методу cdf: это функция нормального распределения, которая вернет вероятность того, что случайная величина (в нашем случае подписка) примет значение, меньше заданного (вероятность получить менее 100 подписок). Для нас приемлемым будет значение этой вероятности не более 5% (или 0.05).\n",
    "Так как наше распределение стремится к нормальному, найдем математическое ожидание и стандартное отклонение для нашего распределения."
   ]
  },
  {
   "cell_type": "code",
   "execution_count": 32,
   "id": "770434b4",
   "metadata": {},
   "outputs": [
    {
     "name": "stdout",
     "output_type": "stream",
     "text": [
      "0.5\n"
     ]
    }
   ],
   "source": [
    "#математическое ожидание\n",
    "mu = n * p\n",
    "#стандартное отклонение\n",
    "sigma = (n*p*(1-p))**0.5\n",
    "#задаем нормальное распределение\n",
    "distr = st.norm(mu,sigma)\n",
    "#указываем значение нашей случайной величины (100 промокодов)\n",
    "x = 100\n",
    "#Находим вероятность получить значение меньше или равное (не должно быть выше 0.05)\n",
    "result = distr.cdf(x)\n",
    "print(result)"
   ]
  },
  {
   "cell_type": "markdown",
   "id": "4f310dec",
   "metadata": {},
   "source": [
    "В случае с 1000 промокодов, вероятность получить менее 100 промокодов составляет 50%. Это слишком много. Попробуем найти, сколько же промокодов нам нужно отправить, пока вероятность получить менее ста подписок не будет превышать 5%."
   ]
  },
  {
   "cell_type": "code",
   "execution_count": 33,
   "id": "6830048d",
   "metadata": {},
   "outputs": [
    {
     "name": "stdout",
     "output_type": "stream",
     "text": [
      "При минимальном количестве отправленных промокодов = 1169,            \n",
      " вероятность получить меньше 100 подписчиков составляет: 4.97%,            \n",
      " что cоответствует поставленной задаче\n"
     ]
    }
   ],
   "source": [
    "#Создадим функцию, рассчитывающую вероятность того, что случайная величина примет значение меньше заданного\n",
    "def distib1(n1,p1):\n",
    "    mu1 = n1 * p1\n",
    "    sigma1 = (n1*p1*(1-p1))**0.5\n",
    "    distr1 = st.norm(mu1,sigma1)\n",
    "    #Значение зададим константой\n",
    "    x1 = 100\n",
    "    result1 = distr1.cdf(x1)\n",
    "    return result1\n",
    "\n",
    "#Создадим цикл, который будет прибавлять единицу в каждой итерации (чтобы получить минимальное значение)\n",
    "for n2 in range(200):\n",
    "#За начальное значение возьмем 1000, так как мы уже доказали, что меньше - смысла не имеет\n",
    "    n_res = 1000 + n2\n",
    "    cdf = distib1(n_res,0.1)\n",
    "    if cdf <= 0.05:\n",
    "        print(\n",
    "            f'При минимальном количестве отправленных промокодов = {n_res},\\\n",
    "            \\n вероятность получить меньше 100 подписчиков составляет: {cdf :.2%},\\\n",
    "            \\n что cоответствует поставленной задаче')\n",
    "        break\n",
    "    pass"
   ]
  },
  {
   "cell_type": "markdown",
   "id": "7f3bbfd6",
   "metadata": {},
   "source": [
    "Нам удалось узнать минимальное количество промокодов, которые необходимо разослать, чтобы с вероятностью не менее 95% получить 100 подписчиков. Это число составляет 1169 промокодов. Если перенести это на наших пользователей проката самоката - почти каждому человеку нужно отправить промокод."
   ]
  },
  {
   "cell_type": "markdown",
   "id": "a740ae8d",
   "metadata": {},
   "source": [
    "##### Открытие уведомлений\n",
    "[К содержанию](#contents)"
   ]
  },
  {
   "cell_type": "markdown",
   "id": "1a33e16b",
   "metadata": {},
   "source": [
    "Наша задача, оценить вероятность того, что push-уведомления откроют не более 399.5 тысяч пользователей\n",
    "При условии, что будет разослано 1000000 уведомлений и вероятность успеха составляет 40% (0.4).  \n",
    "\n",
    "Перед нами вновь биномиальное распределение, где определено количество испытаний:\n",
    "* n = 1000000,  \n",
    "И вероятность успеха в каждом испытании:\n",
    "* p = 0.4.  \n",
    "\n",
    "Для того, чтобы найти вероятность того, что уведомления откроют не более 399.5 тысяч пользователей, вновь обратимся к методу `cdf()`. Но для этого сначала необходимо аппроксимировать биномиальное распределение по нормальному."
   ]
  },
  {
   "cell_type": "code",
   "execution_count": 34,
   "id": "dd7926ad",
   "metadata": {},
   "outputs": [
    {
     "data": {
      "image/png": "[encoded data removed]",
      "text/plain": [
       "<Figure size 640x480 with 1 Axes>"
      ]
     },
     "metadata": {},
     "output_type": "display_data"
    },
    {
     "name": "stdout",
     "output_type": "stream",
     "text": [
      "Вероятность получить менее 399.5 тысяч открытий: 15.37%\n"
     ]
    }
   ],
   "source": [
    "def linspace(start, stop, num):\n",
    "    step = (stop - start) / (num - 1)\n",
    "    result = []\n",
    "    for i in range(num):\n",
    "        result.append(start + step * i)\n",
    "    return result\n",
    "#Задаем параметры биномиального распределения:\n",
    "p = 0.4\n",
    "n = 1000000\n",
    "#Построим график аппроксимации:\n",
    "#Зададим границы, где вероятности значений почти не равны нулю\n",
    "left = int(n * p - 4 * (n * p * (1 - p))**0.5)\n",
    "right = int(n * p + 4 * (n * p * (1 - p))**0.5)\n",
    "#Зададим набор значений на выбранной границе\n",
    "x = list(range(max(0, left), right))\n",
    "#Рисуем сам график\n",
    "ax = plt.subplot()\n",
    "ax.plot(x, binom.pmf(x, n, p), 'gx', ms=5, label='вероятности биномиального распределения')\n",
    "#Задаем параметры нормального распределения:\n",
    "mu = n * p\n",
    "sigma = (n * p * (1 - p))**0.5\n",
    "#Рисуем график нормального распределения\n",
    "x = linspace(left, right, 100)\n",
    "ax.plot(x, norm.pdf(x, mu, sigma), 'r-', lw=3, alpha=0.3, label='плотность вероятности нормального распределения')\n",
    "x_ticks = list(range(int(mu - 3 * sigma), int(mu + 3 * sigma), 1))\n",
    "ax.set_xticks(x_ticks)\n",
    "ax.legend(loc='best')\n",
    "plt.show()\n",
    "\n",
    "#Задаём нормальное распределение\n",
    "distr = st.norm(mu, sigma) \n",
    "#Считаем вероятность получить менее 399.5 тысяч открытий\n",
    "result = distr.cdf(399500)\n",
    "print(f'Вероятность получить менее 399.5 тысяч открытий: {result:.2%}')"
   ]
  },
  {
   "cell_type": "markdown",
   "id": "2e6c8381",
   "metadata": {},
   "source": [
    "Итак, наше распределение отлично аппроксимировано, и нам удалось найти вероятность того, что менее 399.5 тысяч пользователей откроют уведомление. Она составила 15,37%. "
   ]
  },
  {
   "cell_type": "markdown",
   "id": "5a5521ae",
   "metadata": {},
   "source": [
    "#### Вывод\n",
    "[К содержанию](#contents)\n",
    "\n",
    "Мы изучили данные пользователей приложения для аренды самокатов за 2021 год и вот что нам удалось выяснить касательно самих пользователей:\n",
    "* Больше всего пользователей находится в Пятигорске\n",
    "    * Возможно это связано с климатом, который позволяет пользоваться самокатами дольше, чем в других регионах;\n",
    "* Средний возраст пользователей - 25 лет (больше всего пользователей от 18 до 31 года);\n",
    "* В среднем пользователи проезжают около 3-3.133 километров за поездку;\n",
    "* Чаще всего пользователи тратят на поездки от 17 до 18 минут;\n",
    "* Большинство пользователей не оформляет подписку (около 54% пользователей);\n",
    "\n",
    "Также мы провели сравнительный статистический анализ и выяснили следующее:\n",
    "* Пользователи с подпиской в среднем тратят на поездки больше времени, чем пользователи без подписки;\n",
    "    * Так как в их тарифе минуты стоят дешевле;\n",
    "* Пользователи с подпиской в среднем проезжают не больше оптимального для эксплуатации самоката расстояния;\n",
    "    * Износ самоката не ускоряется;\n",
    "* Средняя помесячная выручка с таких пользователей выше, чем с пользователей без подписки.\n",
    "\n",
    "Исходя из полученных данных можно сделать вывод, что пользователи с подпиской выгоднее для сервиса. Значит компании необходимо сделать упор на продвижение подписки и показать пользователям выгоду от неё. Например рассылать промокоды, делать пробные периоды для новых пользователей, а также расширять охват городов."
   ]
  },
  {
   "cell_type": "code",
   "execution_count": null,
   "id": "31df6615",
   "metadata": {},
   "outputs": [],
   "source": []
  }
 ],
 "metadata": {
  "ExecuteTimeLog": [
   {
    "duration": 1172,
    "start_time": "2023-05-29T14:37:15.151Z"
   },
   {
    "duration": 160,
    "start_time": "2023-05-29T14:43:00.463Z"
   },
   {
    "duration": 82,
    "start_time": "2023-05-29T14:44:25.474Z"
   },
   {
    "duration": 47,
    "start_time": "2023-05-29T14:45:38.017Z"
   },
   {
    "duration": 128,
    "start_time": "2023-05-29T14:46:20.167Z"
   },
   {
    "duration": 70,
    "start_time": "2023-05-29T14:46:45.479Z"
   },
   {
    "duration": 40,
    "start_time": "2023-05-29T14:50:05.193Z"
   },
   {
    "duration": 47,
    "start_time": "2023-05-29T14:50:07.963Z"
   },
   {
    "duration": 32,
    "start_time": "2023-05-29T14:50:11.775Z"
   },
   {
    "duration": 34,
    "start_time": "2023-05-29T14:50:19.790Z"
   },
   {
    "duration": 79,
    "start_time": "2023-05-30T13:24:56.013Z"
   },
   {
    "duration": 154,
    "start_time": "2023-05-30T13:25:04.418Z"
   },
   {
    "duration": 110,
    "start_time": "2023-05-30T13:25:08.557Z"
   },
   {
    "duration": 44,
    "start_time": "2023-05-30T13:27:39.320Z"
   },
   {
    "duration": 1405,
    "start_time": "2023-05-30T13:27:48.022Z"
   },
   {
    "duration": 1192,
    "start_time": "2023-05-30T13:28:08.303Z"
   },
   {
    "duration": 136,
    "start_time": "2023-05-30T13:28:09.497Z"
   },
   {
    "duration": 79,
    "start_time": "2023-05-30T13:28:09.634Z"
   },
   {
    "duration": 234,
    "start_time": "2023-05-30T13:28:09.716Z"
   },
   {
    "duration": 8,
    "start_time": "2023-05-30T13:28:14.629Z"
   },
   {
    "duration": 20,
    "start_time": "2023-05-30T13:28:27.494Z"
   },
   {
    "duration": 20,
    "start_time": "2023-05-30T13:28:43.618Z"
   },
   {
    "duration": 18,
    "start_time": "2023-05-30T13:28:56.261Z"
   },
   {
    "duration": 11,
    "start_time": "2023-05-30T13:35:20.327Z"
   },
   {
    "duration": 82,
    "start_time": "2023-05-30T14:27:01.172Z"
   },
   {
    "duration": 0,
    "start_time": "2023-05-30T14:27:01.256Z"
   },
   {
    "duration": 0,
    "start_time": "2023-05-30T14:27:01.257Z"
   },
   {
    "duration": 0,
    "start_time": "2023-05-30T14:27:01.258Z"
   },
   {
    "duration": 0,
    "start_time": "2023-05-30T14:27:01.260Z"
   },
   {
    "duration": 0,
    "start_time": "2023-05-30T14:27:01.261Z"
   },
   {
    "duration": 1140,
    "start_time": "2023-05-30T14:28:22.092Z"
   },
   {
    "duration": 129,
    "start_time": "2023-05-30T14:28:46.025Z"
   },
   {
    "duration": 70,
    "start_time": "2023-05-30T14:29:58.849Z"
   },
   {
    "duration": 9,
    "start_time": "2023-05-30T14:30:17.083Z"
   },
   {
    "duration": 3546,
    "start_time": "2023-05-30T14:34:03.689Z"
   },
   {
    "duration": 2398,
    "start_time": "2023-05-30T14:36:03.218Z"
   },
   {
    "duration": 1196,
    "start_time": "2023-05-30T14:38:59.689Z"
   },
   {
    "duration": 41,
    "start_time": "2023-05-30T14:39:22.597Z"
   },
   {
    "duration": 59,
    "start_time": "2023-05-30T14:39:26.492Z"
   },
   {
    "duration": 36,
    "start_time": "2023-05-30T14:39:29.803Z"
   },
   {
    "duration": 15,
    "start_time": "2023-05-30T14:39:33.903Z"
   },
   {
    "duration": 17,
    "start_time": "2023-05-30T14:39:36.383Z"
   },
   {
    "duration": 782,
    "start_time": "2023-05-30T14:40:34.363Z"
   },
   {
    "duration": 748,
    "start_time": "2023-05-30T14:40:56.511Z"
   },
   {
    "duration": 707,
    "start_time": "2023-05-30T14:45:22.878Z"
   },
   {
    "duration": 11,
    "start_time": "2023-05-30T14:53:41.011Z"
   },
   {
    "duration": 8,
    "start_time": "2023-05-30T15:01:08.553Z"
   },
   {
    "duration": 106,
    "start_time": "2023-05-30T15:08:48.568Z"
   },
   {
    "duration": 10,
    "start_time": "2023-05-30T15:10:11.742Z"
   },
   {
    "duration": 6,
    "start_time": "2023-05-30T15:20:12.028Z"
   },
   {
    "duration": 20,
    "start_time": "2023-05-30T15:29:12.443Z"
   },
   {
    "duration": 17,
    "start_time": "2023-05-30T15:40:07.038Z"
   },
   {
    "duration": 184,
    "start_time": "2023-05-30T15:41:06.935Z"
   },
   {
    "duration": 11,
    "start_time": "2023-05-30T15:52:27.987Z"
   },
   {
    "duration": 4367,
    "start_time": "2023-05-30T15:55:58.239Z"
   },
   {
    "duration": 17,
    "start_time": "2023-05-30T16:00:10.973Z"
   },
   {
    "duration": 14,
    "start_time": "2023-05-30T16:02:23.244Z"
   },
   {
    "duration": 133,
    "start_time": "2023-05-30T16:08:49.212Z"
   },
   {
    "duration": 141,
    "start_time": "2023-05-30T16:11:26.224Z"
   },
   {
    "duration": 201,
    "start_time": "2023-05-30T16:16:53.444Z"
   },
   {
    "duration": 133,
    "start_time": "2023-05-30T16:24:39.860Z"
   },
   {
    "duration": 137,
    "start_time": "2023-05-30T16:39:15.318Z"
   },
   {
    "duration": 10,
    "start_time": "2023-05-30T17:17:02.788Z"
   },
   {
    "duration": 130,
    "start_time": "2023-05-30T17:18:28.189Z"
   },
   {
    "duration": 29,
    "start_time": "2023-05-30T17:37:48.476Z"
   },
   {
    "duration": 24,
    "start_time": "2023-05-30T17:38:28.813Z"
   },
   {
    "duration": 30,
    "start_time": "2023-05-30T17:38:49.714Z"
   },
   {
    "duration": 43,
    "start_time": "2023-05-30T17:44:26.779Z"
   },
   {
    "duration": 30,
    "start_time": "2023-05-30T17:45:34.802Z"
   },
   {
    "duration": 41,
    "start_time": "2023-05-30T17:46:15.696Z"
   },
   {
    "duration": 30,
    "start_time": "2023-05-30T17:46:42.963Z"
   },
   {
    "duration": 17,
    "start_time": "2023-05-30T17:49:06.247Z"
   },
   {
    "duration": 16,
    "start_time": "2023-05-30T17:50:03.206Z"
   },
   {
    "duration": 20,
    "start_time": "2023-05-30T17:50:21.750Z"
   },
   {
    "duration": 35,
    "start_time": "2023-05-30T17:54:59.205Z"
   },
   {
    "duration": 26,
    "start_time": "2023-05-30T18:02:14.437Z"
   },
   {
    "duration": 16,
    "start_time": "2023-05-30T18:05:02.352Z"
   },
   {
    "duration": 15,
    "start_time": "2023-05-30T18:05:49.600Z"
   },
   {
    "duration": 21,
    "start_time": "2023-05-30T18:29:50.019Z"
   },
   {
    "duration": 29,
    "start_time": "2023-05-30T18:30:17.298Z"
   },
   {
    "duration": 21,
    "start_time": "2023-05-30T18:31:53.449Z"
   },
   {
    "duration": 26,
    "start_time": "2023-05-30T18:37:28.701Z"
   },
   {
    "duration": 1332,
    "start_time": "2023-05-30T18:40:00.903Z"
   },
   {
    "duration": 41,
    "start_time": "2023-05-30T18:40:02.237Z"
   },
   {
    "duration": 62,
    "start_time": "2023-05-30T18:40:02.280Z"
   },
   {
    "duration": 24,
    "start_time": "2023-05-30T18:40:02.345Z"
   },
   {
    "duration": 49,
    "start_time": "2023-05-30T18:40:02.370Z"
   },
   {
    "duration": 25,
    "start_time": "2023-05-30T18:40:02.421Z"
   },
   {
    "duration": 839,
    "start_time": "2023-05-30T18:40:02.448Z"
   },
   {
    "duration": 863,
    "start_time": "2023-05-30T18:40:03.291Z"
   },
   {
    "duration": 24,
    "start_time": "2023-05-30T18:40:04.155Z"
   },
   {
    "duration": 42,
    "start_time": "2023-05-30T18:40:04.181Z"
   },
   {
    "duration": 38,
    "start_time": "2023-05-30T18:40:04.225Z"
   },
   {
    "duration": 248,
    "start_time": "2023-05-30T18:40:04.265Z"
   },
   {
    "duration": 12,
    "start_time": "2023-05-30T18:40:04.515Z"
   },
   {
    "duration": 152,
    "start_time": "2023-05-30T18:40:04.529Z"
   },
   {
    "duration": 144,
    "start_time": "2023-05-30T18:40:04.687Z"
   },
   {
    "duration": 141,
    "start_time": "2023-05-30T18:40:04.833Z"
   },
   {
    "duration": 147,
    "start_time": "2023-05-30T18:40:04.976Z"
   },
   {
    "duration": 22,
    "start_time": "2023-05-30T18:40:05.125Z"
   },
   {
    "duration": 29,
    "start_time": "2023-05-30T18:40:05.149Z"
   },
   {
    "duration": 124,
    "start_time": "2023-05-30T18:40:05.181Z"
   },
   {
    "duration": 25,
    "start_time": "2023-05-30T18:48:12.821Z"
   },
   {
    "duration": 2493,
    "start_time": "2023-05-30T19:00:25.034Z"
   },
   {
    "duration": 1762,
    "start_time": "2023-05-30T19:01:35.649Z"
   },
   {
    "duration": 114,
    "start_time": "2023-05-30T19:10:22.232Z"
   },
   {
    "duration": 14,
    "start_time": "2023-05-30T19:26:34.350Z"
   },
   {
    "duration": 13,
    "start_time": "2023-05-30T19:27:00.623Z"
   },
   {
    "duration": 422,
    "start_time": "2023-05-30T19:27:26.902Z"
   },
   {
    "duration": 35,
    "start_time": "2023-05-30T19:28:00.912Z"
   },
   {
    "duration": 39,
    "start_time": "2023-05-30T19:30:43.713Z"
   },
   {
    "duration": 416,
    "start_time": "2023-05-30T19:33:38.621Z"
   },
   {
    "duration": 45,
    "start_time": "2023-05-30T19:33:50.110Z"
   },
   {
    "duration": 173567,
    "start_time": "2023-05-30T19:46:35.990Z"
   },
   {
    "duration": 128,
    "start_time": "2023-05-30T19:53:44.004Z"
   },
   {
    "duration": 124,
    "start_time": "2023-05-30T19:54:41.217Z"
   },
   {
    "duration": 140,
    "start_time": "2023-05-30T19:55:38.218Z"
   },
   {
    "duration": 147,
    "start_time": "2023-05-30T19:56:01.475Z"
   },
   {
    "duration": 168,
    "start_time": "2023-05-30T19:56:13.611Z"
   },
   {
    "duration": 122,
    "start_time": "2023-05-30T19:56:37.246Z"
   },
   {
    "duration": 147,
    "start_time": "2023-05-30T19:56:41.250Z"
   },
   {
    "duration": 123,
    "start_time": "2023-05-30T19:56:52.684Z"
   },
   {
    "duration": 127,
    "start_time": "2023-05-30T19:56:56.314Z"
   },
   {
    "duration": 125,
    "start_time": "2023-05-30T19:57:59.123Z"
   },
   {
    "duration": 153,
    "start_time": "2023-05-30T19:58:02.671Z"
   },
   {
    "duration": 130,
    "start_time": "2023-05-30T20:10:08.072Z"
   },
   {
    "duration": 87,
    "start_time": "2023-05-30T20:10:15.058Z"
   },
   {
    "duration": 82,
    "start_time": "2023-05-30T20:10:24.661Z"
   },
   {
    "duration": 71,
    "start_time": "2023-05-30T20:10:31.399Z"
   },
   {
    "duration": 119,
    "start_time": "2023-05-30T20:11:33.255Z"
   },
   {
    "duration": 125,
    "start_time": "2023-05-30T20:11:37.095Z"
   },
   {
    "duration": 130,
    "start_time": "2023-05-30T20:11:41.789Z"
   },
   {
    "duration": 133,
    "start_time": "2023-05-30T20:11:54.375Z"
   },
   {
    "duration": 102,
    "start_time": "2023-05-30T20:11:57.960Z"
   },
   {
    "duration": 150,
    "start_time": "2023-05-30T20:12:07.115Z"
   },
   {
    "duration": 135,
    "start_time": "2023-05-30T20:12:42.290Z"
   },
   {
    "duration": 149,
    "start_time": "2023-05-30T20:12:52.539Z"
   },
   {
    "duration": 150,
    "start_time": "2023-05-30T20:19:24.290Z"
   },
   {
    "duration": 143,
    "start_time": "2023-05-30T20:20:21.391Z"
   },
   {
    "duration": 164,
    "start_time": "2023-05-30T20:21:55.678Z"
   },
   {
    "duration": 163,
    "start_time": "2023-05-30T20:22:00.075Z"
   },
   {
    "duration": 135,
    "start_time": "2023-05-30T20:46:50.290Z"
   },
   {
    "duration": 4250,
    "start_time": "2023-05-31T11:03:47.525Z"
   },
   {
    "duration": 86,
    "start_time": "2023-05-31T11:03:51.777Z"
   },
   {
    "duration": 91,
    "start_time": "2023-05-31T11:03:51.865Z"
   },
   {
    "duration": 61,
    "start_time": "2023-05-31T11:03:51.957Z"
   },
   {
    "duration": 14,
    "start_time": "2023-05-31T11:03:52.021Z"
   },
   {
    "duration": 55,
    "start_time": "2023-05-31T11:03:52.036Z"
   },
   {
    "duration": 922,
    "start_time": "2023-05-31T11:03:52.093Z"
   },
   {
    "duration": 771,
    "start_time": "2023-05-31T11:03:53.017Z"
   },
   {
    "duration": 10,
    "start_time": "2023-05-31T11:03:53.790Z"
   },
   {
    "duration": 22,
    "start_time": "2023-05-31T11:03:53.802Z"
   },
   {
    "duration": 12,
    "start_time": "2023-05-31T11:03:53.826Z"
   },
   {
    "duration": 184,
    "start_time": "2023-05-31T11:03:53.840Z"
   },
   {
    "duration": 13,
    "start_time": "2023-05-31T11:03:54.026Z"
   },
   {
    "duration": 149,
    "start_time": "2023-05-31T11:03:54.041Z"
   },
   {
    "duration": 137,
    "start_time": "2023-05-31T11:03:54.191Z"
   },
   {
    "duration": 127,
    "start_time": "2023-05-31T11:03:54.330Z"
   },
   {
    "duration": 132,
    "start_time": "2023-05-31T11:03:54.459Z"
   },
   {
    "duration": 200,
    "start_time": "2023-05-31T11:03:54.593Z"
   },
   {
    "duration": 40,
    "start_time": "2023-05-31T11:03:54.795Z"
   },
   {
    "duration": 170,
    "start_time": "2023-05-31T11:03:54.837Z"
   },
   {
    "duration": 134,
    "start_time": "2023-05-31T11:03:55.009Z"
   },
   {
    "duration": 128,
    "start_time": "2023-05-31T11:03:55.145Z"
   },
   {
    "duration": 159,
    "start_time": "2023-05-31T11:03:55.275Z"
   },
   {
    "duration": 40,
    "start_time": "2023-05-31T11:03:55.435Z"
   },
   {
    "duration": 5,
    "start_time": "2023-05-31T11:04:04.377Z"
   },
   {
    "duration": 5,
    "start_time": "2023-05-31T11:04:43.606Z"
   },
   {
    "duration": 6,
    "start_time": "2023-05-31T11:04:48.720Z"
   },
   {
    "duration": 5,
    "start_time": "2023-05-31T11:51:28.003Z"
   },
   {
    "duration": 5,
    "start_time": "2023-05-31T11:51:35.104Z"
   },
   {
    "duration": 5,
    "start_time": "2023-05-31T11:51:39.674Z"
   },
   {
    "duration": 10,
    "start_time": "2023-05-31T12:04:37.173Z"
   },
   {
    "duration": 8,
    "start_time": "2023-05-31T12:16:06.824Z"
   },
   {
    "duration": 148,
    "start_time": "2023-05-31T12:16:33.246Z"
   },
   {
    "duration": 260,
    "start_time": "2023-05-31T12:17:37.682Z"
   },
   {
    "duration": 236,
    "start_time": "2023-05-31T12:23:38.804Z"
   },
   {
    "duration": 275,
    "start_time": "2023-05-31T12:26:18.562Z"
   },
   {
    "duration": 6,
    "start_time": "2023-05-31T12:50:34.699Z"
   },
   {
    "duration": 4432,
    "start_time": "2023-05-31T16:06:58.631Z"
   },
   {
    "duration": 1415,
    "start_time": "2023-05-31T16:29:55.529Z"
   },
   {
    "duration": 1638,
    "start_time": "2023-05-31T16:30:23.309Z"
   },
   {
    "duration": 260,
    "start_time": "2023-05-31T16:38:41.742Z"
   },
   {
    "duration": 1447,
    "start_time": "2023-05-31T16:42:23.597Z"
   },
   {
    "duration": 9,
    "start_time": "2023-05-31T16:49:33.535Z"
   },
   {
    "duration": 6,
    "start_time": "2023-05-31T16:53:32.586Z"
   },
   {
    "duration": 625,
    "start_time": "2023-05-31T16:54:24.778Z"
   },
   {
    "duration": 64,
    "start_time": "2023-05-31T16:55:02.283Z"
   },
   {
    "duration": 1077,
    "start_time": "2023-05-31T16:55:20.787Z"
   },
   {
    "duration": 165,
    "start_time": "2023-05-31T16:55:45.212Z"
   },
   {
    "duration": 1494,
    "start_time": "2023-05-31T17:02:10.502Z"
   },
   {
    "duration": 18,
    "start_time": "2023-05-31T17:40:01.545Z"
   },
   {
    "duration": 124,
    "start_time": "2023-05-31T17:40:49.259Z"
   },
   {
    "duration": 5,
    "start_time": "2023-05-31T17:41:19.229Z"
   },
   {
    "duration": 165,
    "start_time": "2023-05-31T17:41:34.912Z"
   },
   {
    "duration": 37727,
    "start_time": "2023-05-31T17:42:42.011Z"
   },
   {
    "duration": 35039,
    "start_time": "2023-05-31T17:47:28.285Z"
   },
   {
    "duration": 35238,
    "start_time": "2023-05-31T17:48:32.328Z"
   },
   {
    "duration": 1125,
    "start_time": "2023-05-31T18:16:53.507Z"
   },
   {
    "duration": 92,
    "start_time": "2023-05-31T18:16:54.634Z"
   },
   {
    "duration": 152,
    "start_time": "2023-05-31T18:16:54.728Z"
   },
   {
    "duration": 61,
    "start_time": "2023-05-31T18:16:54.883Z"
   },
   {
    "duration": 14,
    "start_time": "2023-05-31T18:16:54.946Z"
   },
   {
    "duration": 12,
    "start_time": "2023-05-31T18:16:54.961Z"
   },
   {
    "duration": 888,
    "start_time": "2023-05-31T18:16:54.974Z"
   },
   {
    "duration": 845,
    "start_time": "2023-05-31T18:16:55.864Z"
   },
   {
    "duration": 10,
    "start_time": "2023-05-31T18:16:56.711Z"
   },
   {
    "duration": 8,
    "start_time": "2023-05-31T18:16:56.724Z"
   },
   {
    "duration": 41,
    "start_time": "2023-05-31T18:16:56.734Z"
   },
   {
    "duration": 191,
    "start_time": "2023-05-31T18:16:56.777Z"
   },
   {
    "duration": 14,
    "start_time": "2023-05-31T18:16:56.974Z"
   },
   {
    "duration": 147,
    "start_time": "2023-05-31T18:16:56.990Z"
   },
   {
    "duration": 136,
    "start_time": "2023-05-31T18:16:57.139Z"
   },
   {
    "duration": 142,
    "start_time": "2023-05-31T18:16:57.277Z"
   },
   {
    "duration": 172,
    "start_time": "2023-05-31T18:18:31.855Z"
   },
   {
    "duration": 203,
    "start_time": "2023-05-31T18:18:35.262Z"
   },
   {
    "duration": 883,
    "start_time": "2023-05-31T18:18:39.357Z"
   },
   {
    "duration": 21,
    "start_time": "2023-05-31T18:18:50.629Z"
   },
   {
    "duration": 3903,
    "start_time": "2023-06-01T04:36:33.322Z"
   },
   {
    "duration": 39,
    "start_time": "2023-06-01T04:36:37.227Z"
   },
   {
    "duration": 36,
    "start_time": "2023-06-01T04:36:37.267Z"
   },
   {
    "duration": 23,
    "start_time": "2023-06-01T04:36:37.305Z"
   },
   {
    "duration": 14,
    "start_time": "2023-06-01T04:36:37.330Z"
   },
   {
    "duration": 20,
    "start_time": "2023-06-01T04:36:37.345Z"
   },
   {
    "duration": 843,
    "start_time": "2023-06-01T04:36:37.367Z"
   },
   {
    "duration": 788,
    "start_time": "2023-06-01T04:36:38.212Z"
   },
   {
    "duration": 9,
    "start_time": "2023-06-01T04:36:39.002Z"
   },
   {
    "duration": 13,
    "start_time": "2023-06-01T04:36:39.014Z"
   },
   {
    "duration": 8,
    "start_time": "2023-06-01T04:36:39.041Z"
   },
   {
    "duration": 212,
    "start_time": "2023-06-01T04:36:39.051Z"
   },
   {
    "duration": 16,
    "start_time": "2023-06-01T04:36:39.266Z"
   },
   {
    "duration": 143,
    "start_time": "2023-06-01T04:36:39.284Z"
   },
   {
    "duration": 149,
    "start_time": "2023-06-01T04:36:39.429Z"
   },
   {
    "duration": 131,
    "start_time": "2023-06-01T04:36:39.579Z"
   },
   {
    "duration": 132,
    "start_time": "2023-06-01T04:36:39.712Z"
   },
   {
    "duration": 223,
    "start_time": "2023-06-01T04:36:39.845Z"
   },
   {
    "duration": 23,
    "start_time": "2023-06-01T04:36:40.070Z"
   },
   {
    "duration": 138,
    "start_time": "2023-06-01T04:36:40.095Z"
   },
   {
    "duration": 141,
    "start_time": "2023-06-01T04:36:40.234Z"
   },
   {
    "duration": 127,
    "start_time": "2023-06-01T04:36:40.377Z"
   },
   {
    "duration": 152,
    "start_time": "2023-06-01T04:36:40.506Z"
   },
   {
    "duration": 40,
    "start_time": "2023-06-01T04:36:40.660Z"
   },
   {
    "duration": 10,
    "start_time": "2023-06-01T04:36:40.702Z"
   },
   {
    "duration": 305,
    "start_time": "2023-06-01T04:36:40.713Z"
   },
   {
    "duration": 7,
    "start_time": "2023-06-01T04:36:41.020Z"
   },
   {
    "duration": 6,
    "start_time": "2023-06-01T04:36:41.042Z"
   },
   {
    "duration": 6,
    "start_time": "2023-06-01T04:36:41.050Z"
   },
   {
    "duration": 1429,
    "start_time": "2023-06-01T04:36:41.057Z"
   },
   {
    "duration": 5,
    "start_time": "2023-06-01T04:36:42.488Z"
   },
   {
    "duration": 33419,
    "start_time": "2023-06-01T04:36:42.494Z"
   },
   {
    "duration": 160,
    "start_time": "2023-06-01T04:48:17.806Z"
   },
   {
    "duration": 8,
    "start_time": "2023-06-01T04:50:49.915Z"
   },
   {
    "duration": 4120,
    "start_time": "2023-06-01T11:57:49.348Z"
   },
   {
    "duration": 111,
    "start_time": "2023-06-01T11:58:08.491Z"
   },
   {
    "duration": 198,
    "start_time": "2023-06-01T12:00:23.926Z"
   },
   {
    "duration": 84,
    "start_time": "2023-06-01T12:04:14.416Z"
   },
   {
    "duration": 11,
    "start_time": "2023-06-01T12:13:10.755Z"
   },
   {
    "duration": 14,
    "start_time": "2023-06-01T12:23:49.778Z"
   },
   {
    "duration": 10,
    "start_time": "2023-06-01T12:23:52.997Z"
   },
   {
    "duration": 240,
    "start_time": "2023-06-01T12:24:47.528Z"
   },
   {
    "duration": 310,
    "start_time": "2023-06-01T12:26:17.295Z"
   },
   {
    "duration": 54,
    "start_time": "2023-06-01T12:28:29.081Z"
   },
   {
    "duration": 278,
    "start_time": "2023-06-01T12:28:36.064Z"
   },
   {
    "duration": 194,
    "start_time": "2023-06-01T12:29:55.037Z"
   },
   {
    "duration": 188,
    "start_time": "2023-06-01T12:30:33.236Z"
   },
   {
    "duration": 183,
    "start_time": "2023-06-01T12:36:14.921Z"
   },
   {
    "duration": 182,
    "start_time": "2023-06-01T12:36:33.738Z"
   },
   {
    "duration": 51,
    "start_time": "2023-06-01T12:39:05.832Z"
   },
   {
    "duration": 175,
    "start_time": "2023-06-01T12:39:14.410Z"
   },
   {
    "duration": 60,
    "start_time": "2023-06-01T12:42:31.854Z"
   },
   {
    "duration": 237,
    "start_time": "2023-06-01T12:42:47.769Z"
   },
   {
    "duration": 175,
    "start_time": "2023-06-01T12:42:58.394Z"
   },
   {
    "duration": 188,
    "start_time": "2023-06-01T12:46:04.909Z"
   },
   {
    "duration": 197,
    "start_time": "2023-06-01T12:46:21.116Z"
   },
   {
    "duration": 184,
    "start_time": "2023-06-01T12:47:14.864Z"
   },
   {
    "duration": 7,
    "start_time": "2023-06-01T13:14:48.849Z"
   },
   {
    "duration": 169,
    "start_time": "2023-06-01T13:15:00.680Z"
   },
   {
    "duration": 171,
    "start_time": "2023-06-01T13:17:26.298Z"
   },
   {
    "duration": 150,
    "start_time": "2023-06-01T13:18:15.708Z"
   },
   {
    "duration": 747,
    "start_time": "2023-06-01T13:20:43.757Z"
   },
   {
    "duration": 44,
    "start_time": "2023-06-01T13:21:30.162Z"
   },
   {
    "duration": 147,
    "start_time": "2023-06-01T13:21:40.476Z"
   },
   {
    "duration": 165,
    "start_time": "2023-06-01T13:25:23.105Z"
   },
   {
    "duration": 156,
    "start_time": "2023-06-01T13:36:30.618Z"
   },
   {
    "duration": 4542,
    "start_time": "2023-06-01T17:02:54.816Z"
   },
   {
    "duration": 113,
    "start_time": "2023-06-01T17:02:59.361Z"
   },
   {
    "duration": 506,
    "start_time": "2023-06-01T17:02:59.476Z"
   },
   {
    "duration": 93,
    "start_time": "2023-06-01T17:02:59.984Z"
   },
   {
    "duration": 16,
    "start_time": "2023-06-01T17:03:00.079Z"
   },
   {
    "duration": 11,
    "start_time": "2023-06-01T17:03:00.097Z"
   },
   {
    "duration": 17,
    "start_time": "2023-06-01T17:03:00.111Z"
   },
   {
    "duration": 969,
    "start_time": "2023-06-01T17:03:00.130Z"
   },
   {
    "duration": 815,
    "start_time": "2023-06-01T17:03:01.101Z"
   },
   {
    "duration": 22,
    "start_time": "2023-06-01T17:03:01.926Z"
   },
   {
    "duration": 70,
    "start_time": "2023-06-01T17:03:01.950Z"
   },
   {
    "duration": 57,
    "start_time": "2023-06-01T17:03:02.022Z"
   },
   {
    "duration": 264,
    "start_time": "2023-06-01T17:03:02.081Z"
   },
   {
    "duration": 223,
    "start_time": "2023-06-01T17:03:02.347Z"
   },
   {
    "duration": 184,
    "start_time": "2023-06-01T17:03:02.572Z"
   },
   {
    "duration": 153,
    "start_time": "2023-06-01T17:03:04.563Z"
   },
   {
    "duration": 151,
    "start_time": "2023-06-01T17:13:01.182Z"
   },
   {
    "duration": 234,
    "start_time": "2023-06-01T17:13:28.849Z"
   },
   {
    "duration": 131,
    "start_time": "2023-06-01T17:13:36.949Z"
   },
   {
    "duration": 145,
    "start_time": "2023-06-01T17:23:58.454Z"
   },
   {
    "duration": 138,
    "start_time": "2023-06-01T17:35:40.874Z"
   },
   {
    "duration": 11,
    "start_time": "2023-06-01T17:36:18.182Z"
   },
   {
    "duration": 12,
    "start_time": "2023-06-01T17:36:42.816Z"
   },
   {
    "duration": 28,
    "start_time": "2023-06-01T17:37:00.801Z"
   },
   {
    "duration": 42,
    "start_time": "2023-06-01T17:37:12.415Z"
   },
   {
    "duration": 13,
    "start_time": "2023-06-01T17:48:16.830Z"
   },
   {
    "duration": 11,
    "start_time": "2023-06-01T17:48:19.722Z"
   },
   {
    "duration": 343,
    "start_time": "2023-06-01T17:48:21.979Z"
   },
   {
    "duration": 368,
    "start_time": "2023-06-01T18:07:18.977Z"
   },
   {
    "duration": 10,
    "start_time": "2023-06-01T18:23:50.783Z"
   },
   {
    "duration": 129,
    "start_time": "2023-06-01T18:24:13.559Z"
   },
   {
    "duration": 10,
    "start_time": "2023-06-01T18:24:24.548Z"
   },
   {
    "duration": 145,
    "start_time": "2023-06-01T18:24:32.073Z"
   },
   {
    "duration": 140,
    "start_time": "2023-06-01T18:24:34.906Z"
   },
   {
    "duration": 9,
    "start_time": "2023-06-01T18:24:45.351Z"
   },
   {
    "duration": 7,
    "start_time": "2023-06-01T18:31:14.957Z"
   },
   {
    "duration": 7,
    "start_time": "2023-06-01T18:35:59.284Z"
   },
   {
    "duration": 395,
    "start_time": "2023-06-01T18:56:08.858Z"
   },
   {
    "duration": 1618,
    "start_time": "2023-06-01T18:58:35.480Z"
   },
   {
    "duration": 7,
    "start_time": "2023-06-01T19:11:31.508Z"
   },
   {
    "duration": 1154,
    "start_time": "2023-06-01T19:13:10.187Z"
   },
   {
    "duration": 23,
    "start_time": "2023-06-01T19:13:54.378Z"
   },
   {
    "duration": 7,
    "start_time": "2023-06-01T19:14:22.643Z"
   },
   {
    "duration": 9,
    "start_time": "2023-06-01T19:14:31.988Z"
   },
   {
    "duration": 9,
    "start_time": "2023-06-01T19:14:36.280Z"
   },
   {
    "duration": 30,
    "start_time": "2023-06-01T19:15:02.582Z"
   },
   {
    "duration": 38,
    "start_time": "2023-06-01T19:15:09.576Z"
   },
   {
    "duration": 36,
    "start_time": "2023-06-01T19:16:43.877Z"
   },
   {
    "duration": 24,
    "start_time": "2023-06-01T19:19:31.196Z"
   },
   {
    "duration": 15,
    "start_time": "2023-06-01T19:20:02.725Z"
   },
   {
    "duration": 8,
    "start_time": "2023-06-01T19:20:09.964Z"
   },
   {
    "duration": 7,
    "start_time": "2023-06-01T19:20:14.623Z"
   },
   {
    "duration": 21,
    "start_time": "2023-06-01T19:21:42.058Z"
   },
   {
    "duration": 99,
    "start_time": "2023-06-01T19:21:53.644Z"
   },
   {
    "duration": 106,
    "start_time": "2023-06-01T19:21:56.742Z"
   },
   {
    "duration": 170,
    "start_time": "2023-06-01T19:22:00.143Z"
   },
   {
    "duration": 201,
    "start_time": "2023-06-01T19:22:27.413Z"
   },
   {
    "duration": 146,
    "start_time": "2023-06-01T19:39:15.818Z"
   },
   {
    "duration": 255,
    "start_time": "2023-06-01T19:39:34.814Z"
   },
   {
    "duration": 174,
    "start_time": "2023-06-01T19:39:54.963Z"
   },
   {
    "duration": 45,
    "start_time": "2023-06-01T19:41:42.258Z"
   },
   {
    "duration": 95,
    "start_time": "2023-06-01T19:41:57.380Z"
   },
   {
    "duration": 82,
    "start_time": "2023-06-01T19:42:10.502Z"
   },
   {
    "duration": 173,
    "start_time": "2023-06-01T19:43:13.359Z"
   },
   {
    "duration": 189,
    "start_time": "2023-06-01T20:33:06.373Z"
   },
   {
    "duration": 4045,
    "start_time": "2023-06-02T04:46:53.494Z"
   },
   {
    "duration": 46,
    "start_time": "2023-06-02T04:46:57.541Z"
   },
   {
    "duration": 40,
    "start_time": "2023-06-02T04:46:57.589Z"
   },
   {
    "duration": 27,
    "start_time": "2023-06-02T04:46:57.631Z"
   },
   {
    "duration": 13,
    "start_time": "2023-06-02T04:46:57.660Z"
   },
   {
    "duration": 5,
    "start_time": "2023-06-02T04:46:57.675Z"
   },
   {
    "duration": 11,
    "start_time": "2023-06-02T04:46:57.684Z"
   },
   {
    "duration": 760,
    "start_time": "2023-06-02T04:46:57.696Z"
   },
   {
    "duration": 694,
    "start_time": "2023-06-02T04:46:58.458Z"
   },
   {
    "duration": 9,
    "start_time": "2023-06-02T04:46:59.154Z"
   },
   {
    "duration": 23,
    "start_time": "2023-06-02T04:46:59.164Z"
   },
   {
    "duration": 8,
    "start_time": "2023-06-02T04:46:59.189Z"
   },
   {
    "duration": 184,
    "start_time": "2023-06-02T04:46:59.198Z"
   },
   {
    "duration": 152,
    "start_time": "2023-06-02T04:46:59.385Z"
   },
   {
    "duration": 125,
    "start_time": "2023-06-02T04:46:59.539Z"
   },
   {
    "duration": 142,
    "start_time": "2023-06-02T04:46:59.666Z"
   },
   {
    "duration": 128,
    "start_time": "2023-06-02T04:46:59.809Z"
   },
   {
    "duration": 199,
    "start_time": "2023-06-02T04:46:59.939Z"
   },
   {
    "duration": 126,
    "start_time": "2023-06-02T04:47:00.140Z"
   },
   {
    "duration": 35,
    "start_time": "2023-06-02T04:47:00.268Z"
   },
   {
    "duration": 128,
    "start_time": "2023-06-02T04:47:00.305Z"
   },
   {
    "duration": 130,
    "start_time": "2023-06-02T04:47:00.435Z"
   },
   {
    "duration": 163,
    "start_time": "2023-06-02T04:47:00.566Z"
   },
   {
    "duration": 188,
    "start_time": "2023-06-02T04:47:00.730Z"
   },
   {
    "duration": 147,
    "start_time": "2023-06-02T04:47:00.920Z"
   },
   {
    "duration": 55,
    "start_time": "2023-06-02T04:47:01.068Z"
   },
   {
    "duration": 23,
    "start_time": "2023-06-02T04:47:01.124Z"
   },
   {
    "duration": 347,
    "start_time": "2023-06-02T04:47:01.151Z"
   },
   {
    "duration": 6,
    "start_time": "2023-06-02T04:47:01.500Z"
   },
   {
    "duration": 77,
    "start_time": "2023-06-02T04:47:01.507Z"
   },
   {
    "duration": 31,
    "start_time": "2023-06-02T04:47:01.586Z"
   },
   {
    "duration": 36,
    "start_time": "2023-06-02T04:47:01.618Z"
   },
   {
    "duration": 1265,
    "start_time": "2023-06-02T04:47:01.655Z"
   },
   {
    "duration": 5,
    "start_time": "2023-06-02T04:47:02.922Z"
   },
   {
    "duration": 147,
    "start_time": "2023-06-02T04:47:02.929Z"
   },
   {
    "duration": 29001,
    "start_time": "2023-06-02T04:47:03.078Z"
   }
  ],
  "kernelspec": {
   "display_name": "Python 3 (ipykernel)",
   "language": "python",
   "name": "python3"
  },
  "language_info": {
   "codemirror_mode": {
    "name": "ipython",
    "version": 3
   },
   "file_extension": ".py",
   "mimetype": "text/x-python",
   "name": "python",
   "nbconvert_exporter": "python",
   "pygments_lexer": "ipython3",
   "version": "3.11.4"
  },
  "toc": {
   "base_numbering": 1,
   "nav_menu": {},
   "number_sections": true,
   "sideBar": true,
   "skip_h1_title": true,
   "title_cell": "Table of Contents",
   "title_sidebar": "Contents",
   "toc_cell": true,
   "toc_position": {
    "height": "calc(100% - 180px)",
    "left": "10px",
    "top": "150px",
    "width": "527.604px"
   },
   "toc_section_display": true,
   "toc_window_display": false
  }
 },
 "nbformat": 4,
 "nbformat_minor": 5
}
