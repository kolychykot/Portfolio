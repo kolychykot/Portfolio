{
 "cells": [
  {
   "cell_type": "markdown",
   "metadata": {},
   "source": [
    "<a id='content'></a>"
   ]
  },
  {
   "cell_type": "markdown",
   "metadata": {
    "toc": true
   },
   "source": [
    "<h1>Содержание<span class=\"tocSkip\"></span></h1>\n",
    "<div class=\"toc\"><ul class=\"toc-item\"><li><span><a href=\"#Ознакомление-с-данными\" data-toc-modified-id=\"Ознакомление-с-данными-1\"><span class=\"toc-item-num\">1&nbsp;&nbsp;</span>Ознакомление с данными</a></span></li><li><span><a href=\"#Запросы\" data-toc-modified-id=\"Запросы-2\"><span class=\"toc-item-num\">2&nbsp;&nbsp;</span>Запросы</a></span><ul class=\"toc-item\"><li><span><a href=\"#Посчитайте,-сколько-книг-вышло-после-1-января-2000-года\" data-toc-modified-id=\"Посчитайте,-сколько-книг-вышло-после-1-января-2000-года-2.1\"><span class=\"toc-item-num\">2.1&nbsp;&nbsp;</span>Посчитайте, сколько книг вышло после 1 января 2000 года</a></span></li><li><span><a href=\"#Для-каждой-книги-посчитайте-количество-обзоров-и-среднюю-оценку\" data-toc-modified-id=\"Для-каждой-книги-посчитайте-количество-обзоров-и-среднюю-оценку-2.2\"><span class=\"toc-item-num\">2.2&nbsp;&nbsp;</span>Для каждой книги посчитайте количество обзоров и среднюю оценку</a></span></li><li><span><a href=\"#Определите-издательство,-которое-выпустило-наибольшее-число-книг-толще-50-страниц-—-так-вы-исключите-из-анализа-брошюры\" data-toc-modified-id=\"Определите-издательство,-которое-выпустило-наибольшее-число-книг-толще-50-страниц-—-так-вы-исключите-из-анализа-брошюры-2.3\"><span class=\"toc-item-num\">2.3&nbsp;&nbsp;</span>Определите издательство, которое выпустило наибольшее число книг толще 50 страниц — так вы исключите из анализа брошюры</a></span></li><li><span><a href=\"#Определите-автора-с-самой-высокой-средней-оценкой-книг-—-учитывайте-только-книги-с-50-и-более-оценками\" data-toc-modified-id=\"Определите-автора-с-самой-высокой-средней-оценкой-книг-—-учитывайте-только-книги-с-50-и-более-оценками-2.4\"><span class=\"toc-item-num\">2.4&nbsp;&nbsp;</span>Определите автора с самой высокой средней оценкой книг — учитывайте только книги с 50 и более оценками</a></span></li><li><span><a href=\"#Посчитайте-среднее-количество-обзоров-от-пользователей,-которые-поставили-больше-48-оценок\" data-toc-modified-id=\"Посчитайте-среднее-количество-обзоров-от-пользователей,-которые-поставили-больше-48-оценок-2.5\"><span class=\"toc-item-num\">2.5&nbsp;&nbsp;</span>Посчитайте среднее количество обзоров от пользователей, которые поставили больше 48 оценок</a></span></li></ul></li><li><span><a href=\"#Вывод\" data-toc-modified-id=\"Вывод-3\"><span class=\"toc-item-num\">3&nbsp;&nbsp;</span>Вывод</a></span></li></ul></div>"
   ]
  },
  {
   "cell_type": "markdown",
   "metadata": {},
   "source": [
    "# Подготовка\n",
    "\n",
    "Загрузим необходимые библиотеки и подключимся к базе данных."
   ]
  },
  {
   "cell_type": "code",
   "execution_count": 1,
   "metadata": {},
   "outputs": [],
   "source": [
    "import pandas as pd\n",
    "from sqlalchemy import text, create_engine"
   ]
  },
  {
   "cell_type": "code",
   "execution_count": 2,
   "metadata": {},
   "outputs": [],
   "source": [
    "db_config = {'user': 'praktikum_student', # имя пользователя\n",
    "'pwd': 'Sdf4$2;d-d30pp', # пароль\n",
    "'host': 'rc1b-wcoijxj3yxfsf3fs.mdb.yandexcloud.net',\n",
    "'port': 6432, # порт подключения\n",
    "'db': 'data-analyst-final-project-db'} # название базы данных\n",
    "connection_string = 'postgresql://{user}:{pwd}@{host}:{port}/{db}'.format(**db_config)\n",
    "\n",
    "engine = create_engine(connection_string, connect_args={'sslmode':'require'})\n",
    "\n",
    "con=engine.connect()"
   ]
  },
  {
   "cell_type": "markdown",
   "metadata": {},
   "source": [
    "# Сервис по чтению книг\n",
    "[К содержанию](#content)\n",
    "\n",
    "Анализируем данные крупного сервиса для чтения книг по подписке. **Цель исследования** - *получить и проанализировать данные, которые помогут сформулировать ценностное предложение для нового продукта*.\n",
    "\n",
    "Для достижения цели нам следует выполнить следующую **задачу** - проанализировать базу данных, в которой хранится информация о книгах, издательствах, авторах, а также пользовательские обзоры книг."
   ]
  },
  {
   "cell_type": "markdown",
   "metadata": {},
   "source": [
    "## Ознакомление с данными\n",
    "[К содержанию](#content)"
   ]
  },
  {
   "cell_type": "code",
   "execution_count": 3,
   "metadata": {},
   "outputs": [
    {
     "data": {
      "text/html": [
       "<div>\n",
       "<style scoped>\n",
       "    .dataframe tbody tr th:only-of-type {\n",
       "        vertical-align: middle;\n",
       "    }\n",
       "\n",
       "    .dataframe tbody tr th {\n",
       "        vertical-align: top;\n",
       "    }\n",
       "\n",
       "    .dataframe thead th {\n",
       "        text-align: right;\n",
       "    }\n",
       "</style>\n",
       "<table border=\"1\" class=\"dataframe\">\n",
       "  <thead>\n",
       "    <tr style=\"text-align: right;\">\n",
       "      <th></th>\n",
       "      <th>book_id</th>\n",
       "      <th>author_id</th>\n",
       "      <th>title</th>\n",
       "      <th>num_pages</th>\n",
       "      <th>publication_date</th>\n",
       "      <th>publisher_id</th>\n",
       "    </tr>\n",
       "  </thead>\n",
       "  <tbody>\n",
       "    <tr>\n",
       "      <th>0</th>\n",
       "      <td>1</td>\n",
       "      <td>546</td>\n",
       "      <td>'Salem's Lot</td>\n",
       "      <td>594</td>\n",
       "      <td>2005-11-01</td>\n",
       "      <td>93</td>\n",
       "    </tr>\n",
       "  </tbody>\n",
       "</table>\n",
       "</div>"
      ],
      "text/plain": [
       "   book_id  author_id         title  num_pages publication_date  publisher_id\n",
       "0        1        546  'Salem's Lot        594       2005-11-01            93"
      ]
     },
     "execution_count": 3,
     "metadata": {},
     "output_type": "execute_result"
    }
   ],
   "source": [
    "books = '''\n",
    "SELECT *\n",
    "FROM books\n",
    "LIMIT 1;\n",
    "'''\n",
    "pd.io.sql.read_sql(sql=text(books), con = con)"
   ]
  },
  {
   "cell_type": "markdown",
   "metadata": {},
   "source": [
    "Таблица `books` cодержит данные о книгах:\n",
    "* book_id — идентификатор книги;\n",
    "* author_id — идентификатор автора;\n",
    "* title — название книги;\n",
    "* num_pages — количество страниц;\n",
    "* publication_date — дата публикации книги;\n",
    "* publisher_id — идентификатор издателя."
   ]
  },
  {
   "cell_type": "code",
   "execution_count": 4,
   "metadata": {},
   "outputs": [
    {
     "data": {
      "text/html": [
       "<div>\n",
       "<style scoped>\n",
       "    .dataframe tbody tr th:only-of-type {\n",
       "        vertical-align: middle;\n",
       "    }\n",
       "\n",
       "    .dataframe tbody tr th {\n",
       "        vertical-align: top;\n",
       "    }\n",
       "\n",
       "    .dataframe thead th {\n",
       "        text-align: right;\n",
       "    }\n",
       "</style>\n",
       "<table border=\"1\" class=\"dataframe\">\n",
       "  <thead>\n",
       "    <tr style=\"text-align: right;\">\n",
       "      <th></th>\n",
       "      <th>author_id</th>\n",
       "      <th>author</th>\n",
       "    </tr>\n",
       "  </thead>\n",
       "  <tbody>\n",
       "    <tr>\n",
       "      <th>0</th>\n",
       "      <td>1</td>\n",
       "      <td>A.S. Byatt</td>\n",
       "    </tr>\n",
       "  </tbody>\n",
       "</table>\n",
       "</div>"
      ],
      "text/plain": [
       "   author_id      author\n",
       "0          1  A.S. Byatt"
      ]
     },
     "execution_count": 4,
     "metadata": {},
     "output_type": "execute_result"
    }
   ],
   "source": [
    "authors = '''\n",
    "SELECT *\n",
    "FROM authors\n",
    "LIMIT 1;\n",
    "'''\n",
    "pd.io.sql.read_sql(sql=text(authors), con = con)"
   ]
  },
  {
   "cell_type": "markdown",
   "metadata": {},
   "source": [
    "Таблица `authors` - cодержит данные об авторах:\n",
    "* author_id — идентификатор автора;\n",
    "* author — имя автора."
   ]
  },
  {
   "cell_type": "code",
   "execution_count": 5,
   "metadata": {},
   "outputs": [
    {
     "data": {
      "text/html": [
       "<div>\n",
       "<style scoped>\n",
       "    .dataframe tbody tr th:only-of-type {\n",
       "        vertical-align: middle;\n",
       "    }\n",
       "\n",
       "    .dataframe tbody tr th {\n",
       "        vertical-align: top;\n",
       "    }\n",
       "\n",
       "    .dataframe thead th {\n",
       "        text-align: right;\n",
       "    }\n",
       "</style>\n",
       "<table border=\"1\" class=\"dataframe\">\n",
       "  <thead>\n",
       "    <tr style=\"text-align: right;\">\n",
       "      <th></th>\n",
       "      <th>rating_id</th>\n",
       "      <th>book_id</th>\n",
       "      <th>username</th>\n",
       "      <th>rating</th>\n",
       "    </tr>\n",
       "  </thead>\n",
       "  <tbody>\n",
       "    <tr>\n",
       "      <th>0</th>\n",
       "      <td>1</td>\n",
       "      <td>1</td>\n",
       "      <td>ryanfranco</td>\n",
       "      <td>4</td>\n",
       "    </tr>\n",
       "  </tbody>\n",
       "</table>\n",
       "</div>"
      ],
      "text/plain": [
       "   rating_id  book_id    username  rating\n",
       "0          1        1  ryanfranco       4"
      ]
     },
     "execution_count": 5,
     "metadata": {},
     "output_type": "execute_result"
    }
   ],
   "source": [
    "ratings = '''\n",
    "SELECT *\n",
    "FROM ratings\n",
    "LIMIT 1;\n",
    "'''\n",
    "pd.io.sql.read_sql(sql=text(ratings), con = con)"
   ]
  },
  {
   "cell_type": "markdown",
   "metadata": {},
   "source": [
    "Таблица `ratings` - cодержит данные о пользовательских оценках книг:\n",
    "* rating_id — идентификатор оценки;\n",
    "* book_id — идентификатор книги;\n",
    "* username — имя пользователя, оставившего оценку;\n",
    "* rating — оценка книги."
   ]
  },
  {
   "cell_type": "code",
   "execution_count": 6,
   "metadata": {},
   "outputs": [
    {
     "data": {
      "text/html": [
       "<div>\n",
       "<style scoped>\n",
       "    .dataframe tbody tr th:only-of-type {\n",
       "        vertical-align: middle;\n",
       "    }\n",
       "\n",
       "    .dataframe tbody tr th {\n",
       "        vertical-align: top;\n",
       "    }\n",
       "\n",
       "    .dataframe thead th {\n",
       "        text-align: right;\n",
       "    }\n",
       "</style>\n",
       "<table border=\"1\" class=\"dataframe\">\n",
       "  <thead>\n",
       "    <tr style=\"text-align: right;\">\n",
       "      <th></th>\n",
       "      <th>review_id</th>\n",
       "      <th>book_id</th>\n",
       "      <th>username</th>\n",
       "      <th>text</th>\n",
       "    </tr>\n",
       "  </thead>\n",
       "  <tbody>\n",
       "    <tr>\n",
       "      <th>0</th>\n",
       "      <td>1</td>\n",
       "      <td>1</td>\n",
       "      <td>brandtandrea</td>\n",
       "      <td>Mention society tell send professor analysis. ...</td>\n",
       "    </tr>\n",
       "  </tbody>\n",
       "</table>\n",
       "</div>"
      ],
      "text/plain": [
       "   review_id  book_id      username  \\\n",
       "0          1        1  brandtandrea   \n",
       "\n",
       "                                                text  \n",
       "0  Mention society tell send professor analysis. ...  "
      ]
     },
     "execution_count": 6,
     "metadata": {},
     "output_type": "execute_result"
    }
   ],
   "source": [
    "reviews = '''\n",
    "SELECT *\n",
    "FROM reviews\n",
    "LIMIT 1;\n",
    "'''\n",
    "pd.io.sql.read_sql(sql=text(reviews), con = con)"
   ]
  },
  {
   "cell_type": "markdown",
   "metadata": {},
   "source": [
    "Таблица `reviews` - cодержит данные о пользовательских обзорах:\n",
    "* review_id — идентификатор обзора;\n",
    "* book_id — идентификатор книги;\n",
    "* username — имя автора обзора;\n",
    "* text — текст обзора."
   ]
  },
  {
   "cell_type": "code",
   "execution_count": 7,
   "metadata": {},
   "outputs": [
    {
     "data": {
      "text/html": [
       "<div>\n",
       "<style scoped>\n",
       "    .dataframe tbody tr th:only-of-type {\n",
       "        vertical-align: middle;\n",
       "    }\n",
       "\n",
       "    .dataframe tbody tr th {\n",
       "        vertical-align: top;\n",
       "    }\n",
       "\n",
       "    .dataframe thead th {\n",
       "        text-align: right;\n",
       "    }\n",
       "</style>\n",
       "<table border=\"1\" class=\"dataframe\">\n",
       "  <thead>\n",
       "    <tr style=\"text-align: right;\">\n",
       "      <th></th>\n",
       "      <th>publisher_id</th>\n",
       "      <th>publisher</th>\n",
       "    </tr>\n",
       "  </thead>\n",
       "  <tbody>\n",
       "    <tr>\n",
       "      <th>0</th>\n",
       "      <td>1</td>\n",
       "      <td>Ace</td>\n",
       "    </tr>\n",
       "  </tbody>\n",
       "</table>\n",
       "</div>"
      ],
      "text/plain": [
       "   publisher_id publisher\n",
       "0             1       Ace"
      ]
     },
     "execution_count": 7,
     "metadata": {},
     "output_type": "execute_result"
    }
   ],
   "source": [
    "publishers = '''\n",
    "SELECT *\n",
    "FROM publishers\n",
    "LIMIT 1;\n",
    "'''\n",
    "pd.io.sql.read_sql(sql=text(publishers), con = con)"
   ]
  },
  {
   "cell_type": "markdown",
   "metadata": {},
   "source": [
    "Таблица `publishers` - cодержит данные об издательствах:\n",
    "* publisher_id — идентификатор издательства;\n",
    "* publisher — название издательства;"
   ]
  },
  {
   "cell_type": "markdown",
   "metadata": {},
   "source": [
    "## Запросы\n",
    "[К содержанию](#content)\n",
    "\n",
    "Теперь напишем интересующие нас запросы"
   ]
  },
  {
   "cell_type": "markdown",
   "metadata": {},
   "source": [
    "### Посчитайте, сколько книг вышло после 1 января 2000 года\n",
    "[К содержанию](#content)"
   ]
  },
  {
   "cell_type": "code",
   "execution_count": 8,
   "metadata": {},
   "outputs": [
    {
     "data": {
      "text/html": [
       "<div>\n",
       "<style scoped>\n",
       "    .dataframe tbody tr th:only-of-type {\n",
       "        vertical-align: middle;\n",
       "    }\n",
       "\n",
       "    .dataframe tbody tr th {\n",
       "        vertical-align: top;\n",
       "    }\n",
       "\n",
       "    .dataframe thead th {\n",
       "        text-align: right;\n",
       "    }\n",
       "</style>\n",
       "<table border=\"1\" class=\"dataframe\">\n",
       "  <thead>\n",
       "    <tr style=\"text-align: right;\">\n",
       "      <th></th>\n",
       "      <th>count</th>\n",
       "    </tr>\n",
       "  </thead>\n",
       "  <tbody>\n",
       "    <tr>\n",
       "      <th>0</th>\n",
       "      <td>819</td>\n",
       "    </tr>\n",
       "  </tbody>\n",
       "</table>\n",
       "</div>"
      ],
      "text/plain": [
       "   count\n",
       "0    819"
      ]
     },
     "execution_count": 8,
     "metadata": {},
     "output_type": "execute_result"
    }
   ],
   "source": [
    "books_count = '''\n",
    "SELECT COUNT(book_id)\n",
    "FROM books\n",
    "WHERE publication_date >='02-01-2000'; \n",
    "'''\n",
    "pd.io.sql.read_sql(sql=text(books_count), con = con)"
   ]
  },
  {
   "cell_type": "markdown",
   "metadata": {},
   "source": [
    "После 1 января 2000 года вышло 819 книг."
   ]
  },
  {
   "cell_type": "markdown",
   "metadata": {},
   "source": [
    "### Для каждой книги посчитайте количество обзоров и среднюю оценку\n",
    "[К содержанию](#content)"
   ]
  },
  {
   "cell_type": "code",
   "execution_count": 9,
   "metadata": {},
   "outputs": [
    {
     "data": {
      "text/html": [
       "<div>\n",
       "<style scoped>\n",
       "    .dataframe tbody tr th:only-of-type {\n",
       "        vertical-align: middle;\n",
       "    }\n",
       "\n",
       "    .dataframe tbody tr th {\n",
       "        vertical-align: top;\n",
       "    }\n",
       "\n",
       "    .dataframe thead th {\n",
       "        text-align: right;\n",
       "    }\n",
       "</style>\n",
       "<table border=\"1\" class=\"dataframe\">\n",
       "  <thead>\n",
       "    <tr style=\"text-align: right;\">\n",
       "      <th></th>\n",
       "      <th>title</th>\n",
       "      <th>id</th>\n",
       "      <th>review_cnt</th>\n",
       "      <th>rating</th>\n",
       "    </tr>\n",
       "  </thead>\n",
       "  <tbody>\n",
       "    <tr>\n",
       "      <th>0</th>\n",
       "      <td>Twilight (Twilight  #1)</td>\n",
       "      <td>948</td>\n",
       "      <td>7</td>\n",
       "      <td>3.662500</td>\n",
       "    </tr>\n",
       "    <tr>\n",
       "      <th>1</th>\n",
       "      <td>Harry Potter and the Prisoner of Azkaban (Harr...</td>\n",
       "      <td>302</td>\n",
       "      <td>6</td>\n",
       "      <td>4.414634</td>\n",
       "    </tr>\n",
       "    <tr>\n",
       "      <th>2</th>\n",
       "      <td>Harry Potter and the Chamber of Secrets (Harry...</td>\n",
       "      <td>299</td>\n",
       "      <td>6</td>\n",
       "      <td>4.287500</td>\n",
       "    </tr>\n",
       "    <tr>\n",
       "      <th>3</th>\n",
       "      <td>The Book Thief</td>\n",
       "      <td>656</td>\n",
       "      <td>6</td>\n",
       "      <td>4.264151</td>\n",
       "    </tr>\n",
       "    <tr>\n",
       "      <th>4</th>\n",
       "      <td>The Glass Castle</td>\n",
       "      <td>734</td>\n",
       "      <td>6</td>\n",
       "      <td>4.206897</td>\n",
       "    </tr>\n",
       "    <tr>\n",
       "      <th>...</th>\n",
       "      <td>...</td>\n",
       "      <td>...</td>\n",
       "      <td>...</td>\n",
       "      <td>...</td>\n",
       "    </tr>\n",
       "    <tr>\n",
       "      <th>995</th>\n",
       "      <td>Disney's Beauty and the Beast (A Little Golden...</td>\n",
       "      <td>191</td>\n",
       "      <td>0</td>\n",
       "      <td>4.000000</td>\n",
       "    </tr>\n",
       "    <tr>\n",
       "      <th>996</th>\n",
       "      <td>Leonardo's Notebooks</td>\n",
       "      <td>387</td>\n",
       "      <td>0</td>\n",
       "      <td>4.000000</td>\n",
       "    </tr>\n",
       "    <tr>\n",
       "      <th>997</th>\n",
       "      <td>Essential Tales and Poems</td>\n",
       "      <td>221</td>\n",
       "      <td>0</td>\n",
       "      <td>4.000000</td>\n",
       "    </tr>\n",
       "    <tr>\n",
       "      <th>998</th>\n",
       "      <td>Anne Rice's The Vampire Lestat: A Graphic Novel</td>\n",
       "      <td>83</td>\n",
       "      <td>0</td>\n",
       "      <td>3.666667</td>\n",
       "    </tr>\n",
       "    <tr>\n",
       "      <th>999</th>\n",
       "      <td>The Natural Way to Draw</td>\n",
       "      <td>808</td>\n",
       "      <td>0</td>\n",
       "      <td>3.000000</td>\n",
       "    </tr>\n",
       "  </tbody>\n",
       "</table>\n",
       "<p>1000 rows × 4 columns</p>\n",
       "</div>"
      ],
      "text/plain": [
       "                                                 title   id  review_cnt  \\\n",
       "0                              Twilight (Twilight  #1)  948           7   \n",
       "1    Harry Potter and the Prisoner of Azkaban (Harr...  302           6   \n",
       "2    Harry Potter and the Chamber of Secrets (Harry...  299           6   \n",
       "3                                       The Book Thief  656           6   \n",
       "4                                     The Glass Castle  734           6   \n",
       "..                                                 ...  ...         ...   \n",
       "995  Disney's Beauty and the Beast (A Little Golden...  191           0   \n",
       "996                               Leonardo's Notebooks  387           0   \n",
       "997                          Essential Tales and Poems  221           0   \n",
       "998    Anne Rice's The Vampire Lestat: A Graphic Novel   83           0   \n",
       "999                            The Natural Way to Draw  808           0   \n",
       "\n",
       "       rating  \n",
       "0    3.662500  \n",
       "1    4.414634  \n",
       "2    4.287500  \n",
       "3    4.264151  \n",
       "4    4.206897  \n",
       "..        ...  \n",
       "995  4.000000  \n",
       "996  4.000000  \n",
       "997  4.000000  \n",
       "998  3.666667  \n",
       "999  3.000000  \n",
       "\n",
       "[1000 rows x 4 columns]"
      ]
     },
     "execution_count": 9,
     "metadata": {},
     "output_type": "execute_result"
    }
   ],
   "source": [
    "review_rating = '''\n",
    "SELECT b.title AS title,\n",
    "       b.book_id AS id,\n",
    "       COUNT(DISTINCT re.review_id) AS review_cnt,\n",
    "       AVG(ra.rating) AS rating\n",
    "FROM books AS b\n",
    "LEFT JOIN reviews AS re ON b.book_id = re.book_id\n",
    "JOIN ratings AS ra ON b.book_id = ra.book_id\n",
    "GROUP BY title, id\n",
    "ORDER BY review_cnt DESC, rating DESC;\n",
    "'''\n",
    "pd.io.sql.read_sql(sql=text(review_rating), con=con)"
   ]
  },
  {
   "cell_type": "markdown",
   "metadata": {},
   "source": [
    "На первый взгляд оценки мало зависят от количества обзоров. Есть книги с высокими оценками, но c малым числом обзоров или вообще без обзоров. Больше всего обзоров написали на первую книгу Сумерек, однако оценка этой книги ниже 4."
   ]
  },
  {
   "cell_type": "markdown",
   "metadata": {},
   "source": [
    "### Определите издательство, которое выпустило наибольшее число книг толще 50 страниц — так вы исключите из анализа брошюры\n",
    "[К содержанию](#content)"
   ]
  },
  {
   "cell_type": "code",
   "execution_count": 10,
   "metadata": {},
   "outputs": [
    {
     "data": {
      "text/html": [
       "<div>\n",
       "<style scoped>\n",
       "    .dataframe tbody tr th:only-of-type {\n",
       "        vertical-align: middle;\n",
       "    }\n",
       "\n",
       "    .dataframe tbody tr th {\n",
       "        vertical-align: top;\n",
       "    }\n",
       "\n",
       "    .dataframe thead th {\n",
       "        text-align: right;\n",
       "    }\n",
       "</style>\n",
       "<table border=\"1\" class=\"dataframe\">\n",
       "  <thead>\n",
       "    <tr style=\"text-align: right;\">\n",
       "      <th></th>\n",
       "      <th>publisher</th>\n",
       "      <th>book_cnt</th>\n",
       "    </tr>\n",
       "  </thead>\n",
       "  <tbody>\n",
       "    <tr>\n",
       "      <th>0</th>\n",
       "      <td>Penguin Books</td>\n",
       "      <td>42</td>\n",
       "    </tr>\n",
       "  </tbody>\n",
       "</table>\n",
       "</div>"
      ],
      "text/plain": [
       "       publisher  book_cnt\n",
       "0  Penguin Books        42"
      ]
     },
     "execution_count": 10,
     "metadata": {},
     "output_type": "execute_result"
    }
   ],
   "source": [
    "publishers = '''\n",
    "SELECT p.publisher AS publisher,\n",
    "       COUNT(b.book_id) AS book_cnt\n",
    "FROM publishers AS p\n",
    "JOIN books AS b ON p.publisher_id = b.publisher_id\n",
    "WHERE b.num_pages > 50\n",
    "GROUP BY publisher\n",
    "ORDER BY book_cnt DESC\n",
    "LIMIT 1;\n",
    "'''\n",
    "pd.io.sql.read_sql(sql=text(publishers), con=con)"
   ]
  },
  {
   "cell_type": "markdown",
   "metadata": {},
   "source": [
    "Активнее всего книги выпускало издательство Penguin Books - очень известное и крупное Британское издательство."
   ]
  },
  {
   "cell_type": "markdown",
   "metadata": {},
   "source": [
    "### Определите автора с самой высокой средней оценкой книг — учитывайте только книги с 50 и более оценками\n",
    "[К содержанию](#content)"
   ]
  },
  {
   "cell_type": "code",
   "execution_count": 11,
   "metadata": {},
   "outputs": [
    {
     "data": {
      "text/html": [
       "<div>\n",
       "<style scoped>\n",
       "    .dataframe tbody tr th:only-of-type {\n",
       "        vertical-align: middle;\n",
       "    }\n",
       "\n",
       "    .dataframe tbody tr th {\n",
       "        vertical-align: top;\n",
       "    }\n",
       "\n",
       "    .dataframe thead th {\n",
       "        text-align: right;\n",
       "    }\n",
       "</style>\n",
       "<table border=\"1\" class=\"dataframe\">\n",
       "  <thead>\n",
       "    <tr style=\"text-align: right;\">\n",
       "      <th></th>\n",
       "      <th>author_name</th>\n",
       "      <th>avg_rating</th>\n",
       "    </tr>\n",
       "  </thead>\n",
       "  <tbody>\n",
       "    <tr>\n",
       "      <th>0</th>\n",
       "      <td>J.K. Rowling/Mary GrandPré</td>\n",
       "      <td>4.283844</td>\n",
       "    </tr>\n",
       "  </tbody>\n",
       "</table>\n",
       "</div>"
      ],
      "text/plain": [
       "                  author_name  avg_rating\n",
       "0  J.K. Rowling/Mary GrandPré    4.283844"
      ]
     },
     "execution_count": 11,
     "metadata": {},
     "output_type": "execute_result"
    }
   ],
   "source": [
    "top_author = '''\n",
    "WITH book_rating AS (SELECT a.author AS author_name,\n",
    "                            b.book_id AS book,\n",
    "                            AVG(ra.rating) AS avg_rate,\n",
    "                            COUNT(ra.rating_id) AS rating_cnt\n",
    "                     FROM authors AS a\n",
    "                     JOIN books as b ON a.author_id=b.author_id\n",
    "                     JOIN ratings AS ra ON b.book_id = ra.book_id\n",
    "                     GROUP BY author_name, book\n",
    "                     HAVING COUNT(ra.rating_id) >=50)\n",
    "\n",
    "SELECT author_name,\n",
    "       AVG(avg_rate) AS avg_rating\n",
    "FROM book_rating\n",
    "GROUP BY author_name\n",
    "ORDER BY avg_rating DESC\n",
    "LIMIT 1;\n",
    "'''\n",
    "pd.io.sql.read_sql(sql=text(top_author), con=con)"
   ]
  },
  {
   "cell_type": "markdown",
   "metadata": {},
   "source": [
    "Самый высоко оцениваемый автор - J.K.Rowling/Mary GrandPre, средний рейтинг её книг составляет 4.3 балла. Что не удивительно, ведь она написала самую популярную и успешную франшизу книг."
   ]
  },
  {
   "cell_type": "markdown",
   "metadata": {},
   "source": [
    "### Посчитайте среднее количество обзоров от пользователей, которые поставили больше 48 оценок\n",
    "[К содержанию](#content)"
   ]
  },
  {
   "cell_type": "code",
   "execution_count": 12,
   "metadata": {},
   "outputs": [
    {
     "data": {
      "text/html": [
       "<div>\n",
       "<style scoped>\n",
       "    .dataframe tbody tr th:only-of-type {\n",
       "        vertical-align: middle;\n",
       "    }\n",
       "\n",
       "    .dataframe tbody tr th {\n",
       "        vertical-align: top;\n",
       "    }\n",
       "\n",
       "    .dataframe thead th {\n",
       "        text-align: right;\n",
       "    }\n",
       "</style>\n",
       "<table border=\"1\" class=\"dataframe\">\n",
       "  <thead>\n",
       "    <tr style=\"text-align: right;\">\n",
       "      <th></th>\n",
       "      <th>round</th>\n",
       "    </tr>\n",
       "  </thead>\n",
       "  <tbody>\n",
       "    <tr>\n",
       "      <th>0</th>\n",
       "      <td>24.0</td>\n",
       "    </tr>\n",
       "  </tbody>\n",
       "</table>\n",
       "</div>"
      ],
      "text/plain": [
       "   round\n",
       "0   24.0"
      ]
     },
     "execution_count": 12,
     "metadata": {},
     "output_type": "execute_result"
    }
   ],
   "source": [
    "users_review = '''\n",
    "WITH rating_users AS (SELECT ra.username AS username,\n",
    "                             COUNT(ra.rating_id) AS rate_cnt\n",
    "                      FROM ratings AS ra\n",
    "                      GROUP BY ra.username\n",
    "                      HAVING COUNT(ra.rating_id) > 48),\n",
    "     active_users AS (SELECT re.username,\n",
    "                             COUNT(re.review_id) AS review_cnt\n",
    "                      FROM reviews AS re\n",
    "                      JOIN rating_users ON re.username = rating_users.username\n",
    "                      GROUP BY re.username)\n",
    "\n",
    "SELECT ROUND(AVG(review_cnt))\n",
    "FROM active_users;\n",
    "'''\n",
    "pd.io.sql.read_sql(sql=text(users_review), con=con)"
   ]
  },
  {
   "cell_type": "markdown",
   "metadata": {},
   "source": [
    "В среднем, пользователи, которые оставляют более 48 оценок пишут 24 обзора."
   ]
  },
  {
   "cell_type": "markdown",
   "metadata": {},
   "source": [
    "## Вывод\n",
    "[К содержанию](#content)\n",
    "\n",
    "За период после 1 января 2000 года по настоящее (исследуемое) время на нашем сервисе вышло 819 книг. Самое активное издательство - Penguin Books. Самый высоко оцениваемый автор - J.K.Rowling.\n",
    "\n",
    "На основании полученных данных можно составить следующее ценностное предложение касательно нашего приложения по чтению книг:\n",
    "* Большая база доступных книг,\n",
    "* Самых популярных и известных издательств,\n",
    "* Представлены всеми любимые авторы,\n",
    "* Перед чтением книги всегда можно ознакомиться с оценками и обзорами других пользователей.\n",
    "\n",
    "Также, чтобы быть не отставать от конкурентов, можно добавить возможность прослушивания любимый книг в аудиоформате. А также предоставлять офлайн доступ к книгам."
   ]
  }
 ],
 "metadata": {
  "ExecuteTimeLog": [
   {
    "duration": 87,
    "start_time": "2023-10-17T07:38:51.391Z"
   },
   {
    "duration": 487,
    "start_time": "2023-10-17T07:52:13.753Z"
   },
   {
    "duration": 11646,
    "start_time": "2023-10-17T07:52:14.242Z"
   },
   {
    "duration": 55,
    "start_time": "2023-10-17T07:52:25.890Z"
   },
   {
    "duration": 31,
    "start_time": "2023-10-17T07:52:25.948Z"
   },
   {
    "duration": 46,
    "start_time": "2023-10-17T07:52:25.981Z"
   },
   {
    "duration": 51,
    "start_time": "2023-10-17T07:52:26.029Z"
   },
   {
    "duration": 31,
    "start_time": "2023-10-17T07:52:26.082Z"
   },
   {
    "duration": 30,
    "start_time": "2023-10-17T07:52:26.115Z"
   },
   {
    "duration": 54,
    "start_time": "2023-10-17T07:52:26.147Z"
   },
   {
    "duration": 41,
    "start_time": "2023-10-17T07:52:26.203Z"
   },
   {
    "duration": 35,
    "start_time": "2023-10-17T07:52:26.246Z"
   },
   {
    "duration": 32,
    "start_time": "2023-10-17T07:52:26.283Z"
   },
   {
    "duration": 30,
    "start_time": "2023-10-17T07:53:31.970Z"
   },
   {
    "duration": 503,
    "start_time": "2023-10-17T07:53:51.128Z"
   },
   {
    "duration": 12205,
    "start_time": "2023-10-17T07:53:51.632Z"
   },
   {
    "duration": 49,
    "start_time": "2023-10-17T07:54:03.838Z"
   },
   {
    "duration": 29,
    "start_time": "2023-10-17T07:54:03.889Z"
   },
   {
    "duration": 44,
    "start_time": "2023-10-17T07:54:03.920Z"
   },
   {
    "duration": 40,
    "start_time": "2023-10-17T07:54:03.966Z"
   },
   {
    "duration": 41,
    "start_time": "2023-10-17T07:54:04.008Z"
   },
   {
    "duration": 28,
    "start_time": "2023-10-17T07:54:04.051Z"
   },
   {
    "duration": 42,
    "start_time": "2023-10-17T07:54:04.080Z"
   },
   {
    "duration": 31,
    "start_time": "2023-10-17T07:54:04.124Z"
   },
   {
    "duration": 35,
    "start_time": "2023-10-17T07:54:04.157Z"
   },
   {
    "duration": 37,
    "start_time": "2023-10-17T07:54:04.194Z"
   },
   {
    "duration": 605,
    "start_time": "2023-10-17T14:30:17.876Z"
   },
   {
    "duration": 14038,
    "start_time": "2023-10-17T14:30:18.483Z"
   },
   {
    "duration": 24,
    "start_time": "2023-10-17T14:30:32.523Z"
   },
   {
    "duration": 25,
    "start_time": "2023-10-17T14:30:32.550Z"
   },
   {
    "duration": 17,
    "start_time": "2023-10-17T14:30:32.577Z"
   },
   {
    "duration": 46,
    "start_time": "2023-10-17T14:30:32.596Z"
   },
   {
    "duration": 34,
    "start_time": "2023-10-17T14:30:32.644Z"
   },
   {
    "duration": 40,
    "start_time": "2023-10-17T14:30:32.681Z"
   },
   {
    "duration": 64,
    "start_time": "2023-10-17T14:30:32.723Z"
   },
   {
    "duration": 42,
    "start_time": "2023-10-17T14:30:32.790Z"
   },
   {
    "duration": 63,
    "start_time": "2023-10-17T14:30:32.835Z"
   },
   {
    "duration": 46,
    "start_time": "2023-10-17T14:30:32.901Z"
   },
   {
    "duration": 37,
    "start_time": "2023-10-17T14:31:01.288Z"
   },
   {
    "duration": 26,
    "start_time": "2023-10-17T14:31:02.978Z"
   },
   {
    "duration": 30,
    "start_time": "2023-10-17T14:31:17.085Z"
   },
   {
    "duration": 31,
    "start_time": "2023-10-17T14:31:27.398Z"
   },
   {
    "duration": 20,
    "start_time": "2023-10-17T14:35:02.065Z"
   },
   {
    "duration": 17,
    "start_time": "2023-10-17T14:35:03.561Z"
   },
   {
    "duration": 461,
    "start_time": "2023-10-17T15:36:20.796Z"
   },
   {
    "duration": 10425,
    "start_time": "2023-10-17T15:36:21.259Z"
   },
   {
    "duration": 51,
    "start_time": "2023-10-17T15:36:31.685Z"
   },
   {
    "duration": 38,
    "start_time": "2023-10-17T15:36:31.738Z"
   },
   {
    "duration": 35,
    "start_time": "2023-10-17T15:36:31.777Z"
   },
   {
    "duration": 33,
    "start_time": "2023-10-17T15:36:31.813Z"
   },
   {
    "duration": 43,
    "start_time": "2023-10-17T15:36:31.848Z"
   },
   {
    "duration": 35,
    "start_time": "2023-10-17T15:36:31.892Z"
   },
   {
    "duration": 95,
    "start_time": "2023-10-17T15:36:31.929Z"
   },
   {
    "duration": 30,
    "start_time": "2023-10-17T15:36:32.026Z"
   },
   {
    "duration": 39,
    "start_time": "2023-10-17T15:36:32.058Z"
   },
   {
    "duration": 32,
    "start_time": "2023-10-17T15:36:32.098Z"
   },
   {
    "duration": 67,
    "start_time": "2023-10-17T15:37:19.854Z"
   },
   {
    "duration": 70,
    "start_time": "2023-10-17T15:37:49.109Z"
   },
   {
    "duration": 74,
    "start_time": "2023-10-17T15:39:46.543Z"
   },
   {
    "duration": 67,
    "start_time": "2023-10-17T15:39:58.314Z"
   },
   {
    "duration": 443,
    "start_time": "2023-10-17T15:49:55.083Z"
   },
   {
    "duration": 11885,
    "start_time": "2023-10-17T15:49:55.528Z"
   },
   {
    "duration": 48,
    "start_time": "2023-10-17T15:50:07.415Z"
   },
   {
    "duration": 29,
    "start_time": "2023-10-17T15:50:07.465Z"
   },
   {
    "duration": 30,
    "start_time": "2023-10-17T15:50:07.495Z"
   },
   {
    "duration": 29,
    "start_time": "2023-10-17T15:50:07.527Z"
   },
   {
    "duration": 29,
    "start_time": "2023-10-17T15:50:07.557Z"
   },
   {
    "duration": 29,
    "start_time": "2023-10-17T15:50:07.587Z"
   },
   {
    "duration": 67,
    "start_time": "2023-10-17T15:50:07.621Z"
   },
   {
    "duration": 33,
    "start_time": "2023-10-17T15:50:07.691Z"
   },
   {
    "duration": 38,
    "start_time": "2023-10-17T15:50:07.726Z"
   },
   {
    "duration": 35,
    "start_time": "2023-10-17T15:50:07.766Z"
   },
   {
    "duration": 584,
    "start_time": "2023-10-18T04:33:28.345Z"
   },
   {
    "duration": 12970,
    "start_time": "2023-10-18T04:33:28.931Z"
   },
   {
    "duration": 50,
    "start_time": "2023-10-18T04:33:41.902Z"
   },
   {
    "duration": 30,
    "start_time": "2023-10-18T04:33:41.954Z"
   },
   {
    "duration": 31,
    "start_time": "2023-10-18T04:33:41.985Z"
   },
   {
    "duration": 32,
    "start_time": "2023-10-18T04:33:42.018Z"
   },
   {
    "duration": 31,
    "start_time": "2023-10-18T04:33:42.052Z"
   },
   {
    "duration": 34,
    "start_time": "2023-10-18T04:33:42.085Z"
   },
   {
    "duration": 71,
    "start_time": "2023-10-18T04:33:42.121Z"
   },
   {
    "duration": 32,
    "start_time": "2023-10-18T04:33:42.195Z"
   },
   {
    "duration": 40,
    "start_time": "2023-10-18T04:33:42.229Z"
   },
   {
    "duration": 33,
    "start_time": "2023-10-18T04:33:42.270Z"
   }
  ],
  "kernelspec": {
   "display_name": "Python 3 (ipykernel)",
   "language": "python",
   "name": "python3"
  },
  "language_info": {
   "codemirror_mode": {
    "name": "ipython",
    "version": 3
   },
   "file_extension": ".py",
   "mimetype": "text/x-python",
   "name": "python",
   "nbconvert_exporter": "python",
   "pygments_lexer": "ipython3",
   "version": "3.11.4"
  },
  "toc": {
   "base_numbering": 1,
   "nav_menu": {},
   "number_sections": true,
   "sideBar": true,
   "skip_h1_title": true,
   "title_cell": "Содержание",
   "title_sidebar": "Contents",
   "toc_cell": true,
   "toc_position": {},
   "toc_section_display": true,
   "toc_window_display": false
  }
 },
 "nbformat": 4,
 "nbformat_minor": 4
}
